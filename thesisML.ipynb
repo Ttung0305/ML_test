{
  "cells": [
    {
      "cell_type": "code",
      "source": [
        "from google.colab import drive\n",
        "drive.mount('/content/drive')"
      ],
      "metadata": {
        "id": "v6eRUocYz7ab",
        "colab": {
          "base_uri": "https://localhost:8080/"
        },
        "outputId": "3960fe6e-b3b9-4935-9852-b84a04edc64b"
      },
      "id": "v6eRUocYz7ab",
      "execution_count": null,
      "outputs": [
        {
          "output_type": "stream",
          "name": "stdout",
          "text": [
            "Mounted at /content/drive\n"
          ]
        }
      ]
    },
    {
      "cell_type": "code",
      "execution_count": null,
      "id": "2ac72141",
      "metadata": {
        "id": "2ac72141",
        "outputId": "319df3b4-2d04-4920-f536-5f601c3516a9",
        "colab": {
          "base_uri": "https://localhost:8080/"
        }
      },
      "outputs": [
        {
          "output_type": "stream",
          "name": "stdout",
          "text": [
            "(100, 4)\n",
            "   Cycle      Capa       Endu   Percent\n",
            "0      1  4.715341  12.155000  0.857335\n",
            "1      2  4.901805  12.745000  0.891237\n",
            "2      3  4.890273  12.788333  0.889141\n",
            "3      4  4.893277  12.786667  0.889687\n",
            "4      5  4.900183  12.716667  0.890942\n",
            "5      6  4.897227  12.648333  0.890405\n",
            "6      7  4.945414  12.976667  0.899166\n",
            "7      8  4.976928  13.153333  0.904896\n",
            "8      9  4.843223  12.790000  0.880586\n",
            "9     10  4.976768  13.213333  0.904867\n"
          ]
        }
      ],
      "source": [
        "import matplotlib.pyplot as plt\n",
        "from pandas import read_csv\n",
        "import pandas as pd\n",
        "from sklearn import preprocessing\n",
        "import seaborn as sns\n",
        "data = pd.read_csv('/content/drive/MyDrive/Machine Learning Test/4S-1_info.csv')\n",
        "data2=pd.read_csv('/content/drive/MyDrive/Machine Learning Test/4S-2_info.csv')\n",
        "data_total = pd.read_csv('/content/drive/MyDrive/Machine Learning Test/4S-12_info.csv')\n",
        "print(data.shape)\n",
        "print(data.head(10))"
      ]
    },
    {
      "cell_type": "code",
      "source": [
        "pd.DataFrame(data_total)"
      ],
      "metadata": {
        "colab": {
          "base_uri": "https://localhost:8080/",
          "height": 424
        },
        "id": "YWagX-GwwINr",
        "outputId": "649edb81-5042-4a91-8088-25efeaef1307"
      },
      "id": "YWagX-GwwINr",
      "execution_count": null,
      "outputs": [
        {
          "output_type": "execute_result",
          "data": {
            "text/plain": [
              "     Battery  Cycle      Capa       Endu   Percent\n",
              "0          1      1  4.715341  12.155000  0.857335\n",
              "1          1      2  4.901805  12.745000  0.891237\n",
              "2          1      3  4.890273  12.788333  0.889141\n",
              "3          1      4  4.893277  12.786667  0.889687\n",
              "4          1      5  4.900183  12.716667  0.890942\n",
              "..       ...    ...       ...        ...       ...\n",
              "194        2     95  4.557404  11.478333  0.828619\n",
              "195        2     96  4.542978  11.571667  0.825996\n",
              "196        2     97  4.564483  11.631667  0.829906\n",
              "197        2     98  4.706755  12.173333  0.855774\n",
              "198        2     99  4.792408  12.800000  0.871347\n",
              "\n",
              "[199 rows x 5 columns]"
            ],
            "text/html": [
              "\n",
              "  <div id=\"df-b8270dbb-9eb7-441a-a358-dbd28427d982\">\n",
              "    <div class=\"colab-df-container\">\n",
              "      <div>\n",
              "<style scoped>\n",
              "    .dataframe tbody tr th:only-of-type {\n",
              "        vertical-align: middle;\n",
              "    }\n",
              "\n",
              "    .dataframe tbody tr th {\n",
              "        vertical-align: top;\n",
              "    }\n",
              "\n",
              "    .dataframe thead th {\n",
              "        text-align: right;\n",
              "    }\n",
              "</style>\n",
              "<table border=\"1\" class=\"dataframe\">\n",
              "  <thead>\n",
              "    <tr style=\"text-align: right;\">\n",
              "      <th></th>\n",
              "      <th>Battery</th>\n",
              "      <th>Cycle</th>\n",
              "      <th>Capa</th>\n",
              "      <th>Endu</th>\n",
              "      <th>Percent</th>\n",
              "    </tr>\n",
              "  </thead>\n",
              "  <tbody>\n",
              "    <tr>\n",
              "      <th>0</th>\n",
              "      <td>1</td>\n",
              "      <td>1</td>\n",
              "      <td>4.715341</td>\n",
              "      <td>12.155000</td>\n",
              "      <td>0.857335</td>\n",
              "    </tr>\n",
              "    <tr>\n",
              "      <th>1</th>\n",
              "      <td>1</td>\n",
              "      <td>2</td>\n",
              "      <td>4.901805</td>\n",
              "      <td>12.745000</td>\n",
              "      <td>0.891237</td>\n",
              "    </tr>\n",
              "    <tr>\n",
              "      <th>2</th>\n",
              "      <td>1</td>\n",
              "      <td>3</td>\n",
              "      <td>4.890273</td>\n",
              "      <td>12.788333</td>\n",
              "      <td>0.889141</td>\n",
              "    </tr>\n",
              "    <tr>\n",
              "      <th>3</th>\n",
              "      <td>1</td>\n",
              "      <td>4</td>\n",
              "      <td>4.893277</td>\n",
              "      <td>12.786667</td>\n",
              "      <td>0.889687</td>\n",
              "    </tr>\n",
              "    <tr>\n",
              "      <th>4</th>\n",
              "      <td>1</td>\n",
              "      <td>5</td>\n",
              "      <td>4.900183</td>\n",
              "      <td>12.716667</td>\n",
              "      <td>0.890942</td>\n",
              "    </tr>\n",
              "    <tr>\n",
              "      <th>...</th>\n",
              "      <td>...</td>\n",
              "      <td>...</td>\n",
              "      <td>...</td>\n",
              "      <td>...</td>\n",
              "      <td>...</td>\n",
              "    </tr>\n",
              "    <tr>\n",
              "      <th>194</th>\n",
              "      <td>2</td>\n",
              "      <td>95</td>\n",
              "      <td>4.557404</td>\n",
              "      <td>11.478333</td>\n",
              "      <td>0.828619</td>\n",
              "    </tr>\n",
              "    <tr>\n",
              "      <th>195</th>\n",
              "      <td>2</td>\n",
              "      <td>96</td>\n",
              "      <td>4.542978</td>\n",
              "      <td>11.571667</td>\n",
              "      <td>0.825996</td>\n",
              "    </tr>\n",
              "    <tr>\n",
              "      <th>196</th>\n",
              "      <td>2</td>\n",
              "      <td>97</td>\n",
              "      <td>4.564483</td>\n",
              "      <td>11.631667</td>\n",
              "      <td>0.829906</td>\n",
              "    </tr>\n",
              "    <tr>\n",
              "      <th>197</th>\n",
              "      <td>2</td>\n",
              "      <td>98</td>\n",
              "      <td>4.706755</td>\n",
              "      <td>12.173333</td>\n",
              "      <td>0.855774</td>\n",
              "    </tr>\n",
              "    <tr>\n",
              "      <th>198</th>\n",
              "      <td>2</td>\n",
              "      <td>99</td>\n",
              "      <td>4.792408</td>\n",
              "      <td>12.800000</td>\n",
              "      <td>0.871347</td>\n",
              "    </tr>\n",
              "  </tbody>\n",
              "</table>\n",
              "<p>199 rows × 5 columns</p>\n",
              "</div>\n",
              "      <button class=\"colab-df-convert\" onclick=\"convertToInteractive('df-b8270dbb-9eb7-441a-a358-dbd28427d982')\"\n",
              "              title=\"Convert this dataframe to an interactive table.\"\n",
              "              style=\"display:none;\">\n",
              "        \n",
              "  <svg xmlns=\"http://www.w3.org/2000/svg\" height=\"24px\"viewBox=\"0 0 24 24\"\n",
              "       width=\"24px\">\n",
              "    <path d=\"M0 0h24v24H0V0z\" fill=\"none\"/>\n",
              "    <path d=\"M18.56 5.44l.94 2.06.94-2.06 2.06-.94-2.06-.94-.94-2.06-.94 2.06-2.06.94zm-11 1L8.5 8.5l.94-2.06 2.06-.94-2.06-.94L8.5 2.5l-.94 2.06-2.06.94zm10 10l.94 2.06.94-2.06 2.06-.94-2.06-.94-.94-2.06-.94 2.06-2.06.94z\"/><path d=\"M17.41 7.96l-1.37-1.37c-.4-.4-.92-.59-1.43-.59-.52 0-1.04.2-1.43.59L10.3 9.45l-7.72 7.72c-.78.78-.78 2.05 0 2.83L4 21.41c.39.39.9.59 1.41.59.51 0 1.02-.2 1.41-.59l7.78-7.78 2.81-2.81c.8-.78.8-2.07 0-2.86zM5.41 20L4 18.59l7.72-7.72 1.47 1.35L5.41 20z\"/>\n",
              "  </svg>\n",
              "      </button>\n",
              "      \n",
              "  <style>\n",
              "    .colab-df-container {\n",
              "      display:flex;\n",
              "      flex-wrap:wrap;\n",
              "      gap: 12px;\n",
              "    }\n",
              "\n",
              "    .colab-df-convert {\n",
              "      background-color: #E8F0FE;\n",
              "      border: none;\n",
              "      border-radius: 50%;\n",
              "      cursor: pointer;\n",
              "      display: none;\n",
              "      fill: #1967D2;\n",
              "      height: 32px;\n",
              "      padding: 0 0 0 0;\n",
              "      width: 32px;\n",
              "    }\n",
              "\n",
              "    .colab-df-convert:hover {\n",
              "      background-color: #E2EBFA;\n",
              "      box-shadow: 0px 1px 2px rgba(60, 64, 67, 0.3), 0px 1px 3px 1px rgba(60, 64, 67, 0.15);\n",
              "      fill: #174EA6;\n",
              "    }\n",
              "\n",
              "    [theme=dark] .colab-df-convert {\n",
              "      background-color: #3B4455;\n",
              "      fill: #D2E3FC;\n",
              "    }\n",
              "\n",
              "    [theme=dark] .colab-df-convert:hover {\n",
              "      background-color: #434B5C;\n",
              "      box-shadow: 0px 1px 3px 1px rgba(0, 0, 0, 0.15);\n",
              "      filter: drop-shadow(0px 1px 2px rgba(0, 0, 0, 0.3));\n",
              "      fill: #FFFFFF;\n",
              "    }\n",
              "  </style>\n",
              "\n",
              "      <script>\n",
              "        const buttonEl =\n",
              "          document.querySelector('#df-b8270dbb-9eb7-441a-a358-dbd28427d982 button.colab-df-convert');\n",
              "        buttonEl.style.display =\n",
              "          google.colab.kernel.accessAllowed ? 'block' : 'none';\n",
              "\n",
              "        async function convertToInteractive(key) {\n",
              "          const element = document.querySelector('#df-b8270dbb-9eb7-441a-a358-dbd28427d982');\n",
              "          const dataTable =\n",
              "            await google.colab.kernel.invokeFunction('convertToInteractive',\n",
              "                                                     [key], {});\n",
              "          if (!dataTable) return;\n",
              "\n",
              "          const docLinkHtml = 'Like what you see? Visit the ' +\n",
              "            '<a target=\"_blank\" href=https://colab.research.google.com/notebooks/data_table.ipynb>data table notebook</a>'\n",
              "            + ' to learn more about interactive tables.';\n",
              "          element.innerHTML = '';\n",
              "          dataTable['output_type'] = 'display_data';\n",
              "          await google.colab.output.renderOutput(dataTable, element);\n",
              "          const docLink = document.createElement('div');\n",
              "          docLink.innerHTML = docLinkHtml;\n",
              "          element.appendChild(docLink);\n",
              "        }\n",
              "      </script>\n",
              "    </div>\n",
              "  </div>\n",
              "  "
            ]
          },
          "metadata": {},
          "execution_count": 3
        }
      ]
    },
    {
      "cell_type": "code",
      "source": [
        "print(data2.shape)\n",
        "print(data2.head(10))"
      ],
      "metadata": {
        "colab": {
          "base_uri": "https://localhost:8080/"
        },
        "id": "KTApQn-Pc4fr",
        "outputId": "068d9467-883b-4732-d3bf-b2aa57b7fc03"
      },
      "id": "KTApQn-Pc4fr",
      "execution_count": null,
      "outputs": [
        {
          "output_type": "stream",
          "name": "stdout",
          "text": [
            "(99, 4)\n",
            "   Cycle      Capa       Endu   Percent\n",
            "0      1  4.682289  12.005000  0.851325\n",
            "1      2  4.732128  12.401667  0.860387\n",
            "2      3  4.816168  12.375000  0.875667\n",
            "3      4  4.850287  12.593333  0.881870\n",
            "4      5  4.862128  12.563333  0.884023\n",
            "5      6  4.780820  12.311667  0.869240\n",
            "6      7  4.900508  12.815000  0.891001\n",
            "7      8  4.752922  12.538333  0.864168\n",
            "8      9  4.881117  12.965000  0.887476\n",
            "9     10  4.858435  12.985000  0.883352\n"
          ]
        }
      ]
    },
    {
      "cell_type": "code",
      "source": [
        "!cp /content/drive/MyDrive/Machine\\ Learning\\ Test/NotebookML/lssvr.py /content\n",
        "from lssvr import LSSVR"
      ],
      "metadata": {
        "id": "XdoGcG4LCLUl"
      },
      "id": "XdoGcG4LCLUl",
      "execution_count": null,
      "outputs": []
    },
    {
      "cell_type": "code",
      "execution_count": null,
      "id": "fbf30f72",
      "metadata": {
        "id": "fbf30f72",
        "outputId": "e01e0434-6660-4b00-bc51-dfbfabbe0391",
        "colab": {
          "base_uri": "https://localhost:8080/",
          "height": 300
        }
      },
      "outputs": [
        {
          "output_type": "execute_result",
          "data": {
            "text/plain": [
              "            Cycle        Capa        Endu     Percent\n",
              "count  100.000000  100.000000  100.000000  100.000000\n",
              "mean    50.500000    4.772895   12.118117    0.867799\n",
              "std     29.011492    0.104864    0.432685    0.019066\n",
              "min      1.000000    4.456968   11.023333    0.810358\n",
              "25%     25.750000    4.704660   11.830000    0.855393\n",
              "50%     50.500000    4.785207   12.080000    0.870038\n",
              "75%     75.250000    4.846403   12.343750    0.881164\n",
              "max    100.000000    4.976928   13.213333    0.904896"
            ],
            "text/html": [
              "\n",
              "  <div id=\"df-339797c9-7bb2-4f7a-b14b-79c815bdd552\">\n",
              "    <div class=\"colab-df-container\">\n",
              "      <div>\n",
              "<style scoped>\n",
              "    .dataframe tbody tr th:only-of-type {\n",
              "        vertical-align: middle;\n",
              "    }\n",
              "\n",
              "    .dataframe tbody tr th {\n",
              "        vertical-align: top;\n",
              "    }\n",
              "\n",
              "    .dataframe thead th {\n",
              "        text-align: right;\n",
              "    }\n",
              "</style>\n",
              "<table border=\"1\" class=\"dataframe\">\n",
              "  <thead>\n",
              "    <tr style=\"text-align: right;\">\n",
              "      <th></th>\n",
              "      <th>Cycle</th>\n",
              "      <th>Capa</th>\n",
              "      <th>Endu</th>\n",
              "      <th>Percent</th>\n",
              "    </tr>\n",
              "  </thead>\n",
              "  <tbody>\n",
              "    <tr>\n",
              "      <th>count</th>\n",
              "      <td>100.000000</td>\n",
              "      <td>100.000000</td>\n",
              "      <td>100.000000</td>\n",
              "      <td>100.000000</td>\n",
              "    </tr>\n",
              "    <tr>\n",
              "      <th>mean</th>\n",
              "      <td>50.500000</td>\n",
              "      <td>4.772895</td>\n",
              "      <td>12.118117</td>\n",
              "      <td>0.867799</td>\n",
              "    </tr>\n",
              "    <tr>\n",
              "      <th>std</th>\n",
              "      <td>29.011492</td>\n",
              "      <td>0.104864</td>\n",
              "      <td>0.432685</td>\n",
              "      <td>0.019066</td>\n",
              "    </tr>\n",
              "    <tr>\n",
              "      <th>min</th>\n",
              "      <td>1.000000</td>\n",
              "      <td>4.456968</td>\n",
              "      <td>11.023333</td>\n",
              "      <td>0.810358</td>\n",
              "    </tr>\n",
              "    <tr>\n",
              "      <th>25%</th>\n",
              "      <td>25.750000</td>\n",
              "      <td>4.704660</td>\n",
              "      <td>11.830000</td>\n",
              "      <td>0.855393</td>\n",
              "    </tr>\n",
              "    <tr>\n",
              "      <th>50%</th>\n",
              "      <td>50.500000</td>\n",
              "      <td>4.785207</td>\n",
              "      <td>12.080000</td>\n",
              "      <td>0.870038</td>\n",
              "    </tr>\n",
              "    <tr>\n",
              "      <th>75%</th>\n",
              "      <td>75.250000</td>\n",
              "      <td>4.846403</td>\n",
              "      <td>12.343750</td>\n",
              "      <td>0.881164</td>\n",
              "    </tr>\n",
              "    <tr>\n",
              "      <th>max</th>\n",
              "      <td>100.000000</td>\n",
              "      <td>4.976928</td>\n",
              "      <td>13.213333</td>\n",
              "      <td>0.904896</td>\n",
              "    </tr>\n",
              "  </tbody>\n",
              "</table>\n",
              "</div>\n",
              "      <button class=\"colab-df-convert\" onclick=\"convertToInteractive('df-339797c9-7bb2-4f7a-b14b-79c815bdd552')\"\n",
              "              title=\"Convert this dataframe to an interactive table.\"\n",
              "              style=\"display:none;\">\n",
              "        \n",
              "  <svg xmlns=\"http://www.w3.org/2000/svg\" height=\"24px\"viewBox=\"0 0 24 24\"\n",
              "       width=\"24px\">\n",
              "    <path d=\"M0 0h24v24H0V0z\" fill=\"none\"/>\n",
              "    <path d=\"M18.56 5.44l.94 2.06.94-2.06 2.06-.94-2.06-.94-.94-2.06-.94 2.06-2.06.94zm-11 1L8.5 8.5l.94-2.06 2.06-.94-2.06-.94L8.5 2.5l-.94 2.06-2.06.94zm10 10l.94 2.06.94-2.06 2.06-.94-2.06-.94-.94-2.06-.94 2.06-2.06.94z\"/><path d=\"M17.41 7.96l-1.37-1.37c-.4-.4-.92-.59-1.43-.59-.52 0-1.04.2-1.43.59L10.3 9.45l-7.72 7.72c-.78.78-.78 2.05 0 2.83L4 21.41c.39.39.9.59 1.41.59.51 0 1.02-.2 1.41-.59l7.78-7.78 2.81-2.81c.8-.78.8-2.07 0-2.86zM5.41 20L4 18.59l7.72-7.72 1.47 1.35L5.41 20z\"/>\n",
              "  </svg>\n",
              "      </button>\n",
              "      \n",
              "  <style>\n",
              "    .colab-df-container {\n",
              "      display:flex;\n",
              "      flex-wrap:wrap;\n",
              "      gap: 12px;\n",
              "    }\n",
              "\n",
              "    .colab-df-convert {\n",
              "      background-color: #E8F0FE;\n",
              "      border: none;\n",
              "      border-radius: 50%;\n",
              "      cursor: pointer;\n",
              "      display: none;\n",
              "      fill: #1967D2;\n",
              "      height: 32px;\n",
              "      padding: 0 0 0 0;\n",
              "      width: 32px;\n",
              "    }\n",
              "\n",
              "    .colab-df-convert:hover {\n",
              "      background-color: #E2EBFA;\n",
              "      box-shadow: 0px 1px 2px rgba(60, 64, 67, 0.3), 0px 1px 3px 1px rgba(60, 64, 67, 0.15);\n",
              "      fill: #174EA6;\n",
              "    }\n",
              "\n",
              "    [theme=dark] .colab-df-convert {\n",
              "      background-color: #3B4455;\n",
              "      fill: #D2E3FC;\n",
              "    }\n",
              "\n",
              "    [theme=dark] .colab-df-convert:hover {\n",
              "      background-color: #434B5C;\n",
              "      box-shadow: 0px 1px 3px 1px rgba(0, 0, 0, 0.15);\n",
              "      filter: drop-shadow(0px 1px 2px rgba(0, 0, 0, 0.3));\n",
              "      fill: #FFFFFF;\n",
              "    }\n",
              "  </style>\n",
              "\n",
              "      <script>\n",
              "        const buttonEl =\n",
              "          document.querySelector('#df-339797c9-7bb2-4f7a-b14b-79c815bdd552 button.colab-df-convert');\n",
              "        buttonEl.style.display =\n",
              "          google.colab.kernel.accessAllowed ? 'block' : 'none';\n",
              "\n",
              "        async function convertToInteractive(key) {\n",
              "          const element = document.querySelector('#df-339797c9-7bb2-4f7a-b14b-79c815bdd552');\n",
              "          const dataTable =\n",
              "            await google.colab.kernel.invokeFunction('convertToInteractive',\n",
              "                                                     [key], {});\n",
              "          if (!dataTable) return;\n",
              "\n",
              "          const docLinkHtml = 'Like what you see? Visit the ' +\n",
              "            '<a target=\"_blank\" href=https://colab.research.google.com/notebooks/data_table.ipynb>data table notebook</a>'\n",
              "            + ' to learn more about interactive tables.';\n",
              "          element.innerHTML = '';\n",
              "          dataTable['output_type'] = 'display_data';\n",
              "          await google.colab.output.renderOutput(dataTable, element);\n",
              "          const docLink = document.createElement('div');\n",
              "          docLink.innerHTML = docLinkHtml;\n",
              "          element.appendChild(docLink);\n",
              "        }\n",
              "      </script>\n",
              "    </div>\n",
              "  </div>\n",
              "  "
            ]
          },
          "metadata": {},
          "execution_count": 6
        }
      ],
      "source": [
        "data.describe()"
      ]
    },
    {
      "cell_type": "code",
      "source": [
        "data2.describe()"
      ],
      "metadata": {
        "colab": {
          "base_uri": "https://localhost:8080/",
          "height": 300
        },
        "id": "OKHxpAMIdBAb",
        "outputId": "91afe23f-8c88-42c3-955d-229969a6326c"
      },
      "id": "OKHxpAMIdBAb",
      "execution_count": null,
      "outputs": [
        {
          "output_type": "execute_result",
          "data": {
            "text/plain": [
              "           Cycle       Capa       Endu    Percent\n",
              "count  99.000000  99.000000  99.000000  99.000000\n",
              "mean   50.000000   4.730785  12.025337   0.860143\n",
              "std    28.722813   0.085246   0.384103   0.015499\n",
              "min     1.000000   4.539934  11.141667   0.825442\n",
              "25%    25.500000   4.682385  11.738333   0.851343\n",
              "50%    50.000000   4.732021  12.000000   0.860367\n",
              "75%    74.500000   4.797641  12.229167   0.872298\n",
              "max    99.000000   4.900508  12.985000   0.891001"
            ],
            "text/html": [
              "\n",
              "  <div id=\"df-5100c6f7-55ee-4e04-b13e-0186d7f85216\">\n",
              "    <div class=\"colab-df-container\">\n",
              "      <div>\n",
              "<style scoped>\n",
              "    .dataframe tbody tr th:only-of-type {\n",
              "        vertical-align: middle;\n",
              "    }\n",
              "\n",
              "    .dataframe tbody tr th {\n",
              "        vertical-align: top;\n",
              "    }\n",
              "\n",
              "    .dataframe thead th {\n",
              "        text-align: right;\n",
              "    }\n",
              "</style>\n",
              "<table border=\"1\" class=\"dataframe\">\n",
              "  <thead>\n",
              "    <tr style=\"text-align: right;\">\n",
              "      <th></th>\n",
              "      <th>Cycle</th>\n",
              "      <th>Capa</th>\n",
              "      <th>Endu</th>\n",
              "      <th>Percent</th>\n",
              "    </tr>\n",
              "  </thead>\n",
              "  <tbody>\n",
              "    <tr>\n",
              "      <th>count</th>\n",
              "      <td>99.000000</td>\n",
              "      <td>99.000000</td>\n",
              "      <td>99.000000</td>\n",
              "      <td>99.000000</td>\n",
              "    </tr>\n",
              "    <tr>\n",
              "      <th>mean</th>\n",
              "      <td>50.000000</td>\n",
              "      <td>4.730785</td>\n",
              "      <td>12.025337</td>\n",
              "      <td>0.860143</td>\n",
              "    </tr>\n",
              "    <tr>\n",
              "      <th>std</th>\n",
              "      <td>28.722813</td>\n",
              "      <td>0.085246</td>\n",
              "      <td>0.384103</td>\n",
              "      <td>0.015499</td>\n",
              "    </tr>\n",
              "    <tr>\n",
              "      <th>min</th>\n",
              "      <td>1.000000</td>\n",
              "      <td>4.539934</td>\n",
              "      <td>11.141667</td>\n",
              "      <td>0.825442</td>\n",
              "    </tr>\n",
              "    <tr>\n",
              "      <th>25%</th>\n",
              "      <td>25.500000</td>\n",
              "      <td>4.682385</td>\n",
              "      <td>11.738333</td>\n",
              "      <td>0.851343</td>\n",
              "    </tr>\n",
              "    <tr>\n",
              "      <th>50%</th>\n",
              "      <td>50.000000</td>\n",
              "      <td>4.732021</td>\n",
              "      <td>12.000000</td>\n",
              "      <td>0.860367</td>\n",
              "    </tr>\n",
              "    <tr>\n",
              "      <th>75%</th>\n",
              "      <td>74.500000</td>\n",
              "      <td>4.797641</td>\n",
              "      <td>12.229167</td>\n",
              "      <td>0.872298</td>\n",
              "    </tr>\n",
              "    <tr>\n",
              "      <th>max</th>\n",
              "      <td>99.000000</td>\n",
              "      <td>4.900508</td>\n",
              "      <td>12.985000</td>\n",
              "      <td>0.891001</td>\n",
              "    </tr>\n",
              "  </tbody>\n",
              "</table>\n",
              "</div>\n",
              "      <button class=\"colab-df-convert\" onclick=\"convertToInteractive('df-5100c6f7-55ee-4e04-b13e-0186d7f85216')\"\n",
              "              title=\"Convert this dataframe to an interactive table.\"\n",
              "              style=\"display:none;\">\n",
              "        \n",
              "  <svg xmlns=\"http://www.w3.org/2000/svg\" height=\"24px\"viewBox=\"0 0 24 24\"\n",
              "       width=\"24px\">\n",
              "    <path d=\"M0 0h24v24H0V0z\" fill=\"none\"/>\n",
              "    <path d=\"M18.56 5.44l.94 2.06.94-2.06 2.06-.94-2.06-.94-.94-2.06-.94 2.06-2.06.94zm-11 1L8.5 8.5l.94-2.06 2.06-.94-2.06-.94L8.5 2.5l-.94 2.06-2.06.94zm10 10l.94 2.06.94-2.06 2.06-.94-2.06-.94-.94-2.06-.94 2.06-2.06.94z\"/><path d=\"M17.41 7.96l-1.37-1.37c-.4-.4-.92-.59-1.43-.59-.52 0-1.04.2-1.43.59L10.3 9.45l-7.72 7.72c-.78.78-.78 2.05 0 2.83L4 21.41c.39.39.9.59 1.41.59.51 0 1.02-.2 1.41-.59l7.78-7.78 2.81-2.81c.8-.78.8-2.07 0-2.86zM5.41 20L4 18.59l7.72-7.72 1.47 1.35L5.41 20z\"/>\n",
              "  </svg>\n",
              "      </button>\n",
              "      \n",
              "  <style>\n",
              "    .colab-df-container {\n",
              "      display:flex;\n",
              "      flex-wrap:wrap;\n",
              "      gap: 12px;\n",
              "    }\n",
              "\n",
              "    .colab-df-convert {\n",
              "      background-color: #E8F0FE;\n",
              "      border: none;\n",
              "      border-radius: 50%;\n",
              "      cursor: pointer;\n",
              "      display: none;\n",
              "      fill: #1967D2;\n",
              "      height: 32px;\n",
              "      padding: 0 0 0 0;\n",
              "      width: 32px;\n",
              "    }\n",
              "\n",
              "    .colab-df-convert:hover {\n",
              "      background-color: #E2EBFA;\n",
              "      box-shadow: 0px 1px 2px rgba(60, 64, 67, 0.3), 0px 1px 3px 1px rgba(60, 64, 67, 0.15);\n",
              "      fill: #174EA6;\n",
              "    }\n",
              "\n",
              "    [theme=dark] .colab-df-convert {\n",
              "      background-color: #3B4455;\n",
              "      fill: #D2E3FC;\n",
              "    }\n",
              "\n",
              "    [theme=dark] .colab-df-convert:hover {\n",
              "      background-color: #434B5C;\n",
              "      box-shadow: 0px 1px 3px 1px rgba(0, 0, 0, 0.15);\n",
              "      filter: drop-shadow(0px 1px 2px rgba(0, 0, 0, 0.3));\n",
              "      fill: #FFFFFF;\n",
              "    }\n",
              "  </style>\n",
              "\n",
              "      <script>\n",
              "        const buttonEl =\n",
              "          document.querySelector('#df-5100c6f7-55ee-4e04-b13e-0186d7f85216 button.colab-df-convert');\n",
              "        buttonEl.style.display =\n",
              "          google.colab.kernel.accessAllowed ? 'block' : 'none';\n",
              "\n",
              "        async function convertToInteractive(key) {\n",
              "          const element = document.querySelector('#df-5100c6f7-55ee-4e04-b13e-0186d7f85216');\n",
              "          const dataTable =\n",
              "            await google.colab.kernel.invokeFunction('convertToInteractive',\n",
              "                                                     [key], {});\n",
              "          if (!dataTable) return;\n",
              "\n",
              "          const docLinkHtml = 'Like what you see? Visit the ' +\n",
              "            '<a target=\"_blank\" href=https://colab.research.google.com/notebooks/data_table.ipynb>data table notebook</a>'\n",
              "            + ' to learn more about interactive tables.';\n",
              "          element.innerHTML = '';\n",
              "          dataTable['output_type'] = 'display_data';\n",
              "          await google.colab.output.renderOutput(dataTable, element);\n",
              "          const docLink = document.createElement('div');\n",
              "          docLink.innerHTML = docLinkHtml;\n",
              "          element.appendChild(docLink);\n",
              "        }\n",
              "      </script>\n",
              "    </div>\n",
              "  </div>\n",
              "  "
            ]
          },
          "metadata": {},
          "execution_count": 7
        }
      ]
    },
    {
      "cell_type": "code",
      "source": [
        "data_total.describe()"
      ],
      "metadata": {
        "colab": {
          "base_uri": "https://localhost:8080/",
          "height": 300
        },
        "id": "zpiZgYE-RLoW",
        "outputId": "16ce8db5-295e-4b85-99ef-fc408f223bc3"
      },
      "id": "zpiZgYE-RLoW",
      "execution_count": null,
      "outputs": [
        {
          "output_type": "execute_result",
          "data": {
            "text/plain": [
              "          Battery       Cycle        Capa        Endu     Percent\n",
              "count  199.000000  199.000000  199.000000  199.000000  199.000000\n",
              "mean     1.497487   50.251256    4.751946   12.071960    0.863990\n",
              "std      0.501255   28.796345    0.097676    0.410845    0.017759\n",
              "min      1.000000    1.000000    4.456968   11.023333    0.810358\n",
              "25%      1.000000   25.500000    4.685915   11.777500    0.851984\n",
              "50%      1.000000   50.000000    4.757194   12.040000    0.864944\n",
              "75%      2.000000   75.000000    4.823206   12.308333    0.876946\n",
              "max      2.000000  100.000000    4.976928   13.213333    0.904896"
            ],
            "text/html": [
              "\n",
              "  <div id=\"df-d4ae4ef9-6f5a-4fb8-87a5-5d1a67577772\">\n",
              "    <div class=\"colab-df-container\">\n",
              "      <div>\n",
              "<style scoped>\n",
              "    .dataframe tbody tr th:only-of-type {\n",
              "        vertical-align: middle;\n",
              "    }\n",
              "\n",
              "    .dataframe tbody tr th {\n",
              "        vertical-align: top;\n",
              "    }\n",
              "\n",
              "    .dataframe thead th {\n",
              "        text-align: right;\n",
              "    }\n",
              "</style>\n",
              "<table border=\"1\" class=\"dataframe\">\n",
              "  <thead>\n",
              "    <tr style=\"text-align: right;\">\n",
              "      <th></th>\n",
              "      <th>Battery</th>\n",
              "      <th>Cycle</th>\n",
              "      <th>Capa</th>\n",
              "      <th>Endu</th>\n",
              "      <th>Percent</th>\n",
              "    </tr>\n",
              "  </thead>\n",
              "  <tbody>\n",
              "    <tr>\n",
              "      <th>count</th>\n",
              "      <td>199.000000</td>\n",
              "      <td>199.000000</td>\n",
              "      <td>199.000000</td>\n",
              "      <td>199.000000</td>\n",
              "      <td>199.000000</td>\n",
              "    </tr>\n",
              "    <tr>\n",
              "      <th>mean</th>\n",
              "      <td>1.497487</td>\n",
              "      <td>50.251256</td>\n",
              "      <td>4.751946</td>\n",
              "      <td>12.071960</td>\n",
              "      <td>0.863990</td>\n",
              "    </tr>\n",
              "    <tr>\n",
              "      <th>std</th>\n",
              "      <td>0.501255</td>\n",
              "      <td>28.796345</td>\n",
              "      <td>0.097676</td>\n",
              "      <td>0.410845</td>\n",
              "      <td>0.017759</td>\n",
              "    </tr>\n",
              "    <tr>\n",
              "      <th>min</th>\n",
              "      <td>1.000000</td>\n",
              "      <td>1.000000</td>\n",
              "      <td>4.456968</td>\n",
              "      <td>11.023333</td>\n",
              "      <td>0.810358</td>\n",
              "    </tr>\n",
              "    <tr>\n",
              "      <th>25%</th>\n",
              "      <td>1.000000</td>\n",
              "      <td>25.500000</td>\n",
              "      <td>4.685915</td>\n",
              "      <td>11.777500</td>\n",
              "      <td>0.851984</td>\n",
              "    </tr>\n",
              "    <tr>\n",
              "      <th>50%</th>\n",
              "      <td>1.000000</td>\n",
              "      <td>50.000000</td>\n",
              "      <td>4.757194</td>\n",
              "      <td>12.040000</td>\n",
              "      <td>0.864944</td>\n",
              "    </tr>\n",
              "    <tr>\n",
              "      <th>75%</th>\n",
              "      <td>2.000000</td>\n",
              "      <td>75.000000</td>\n",
              "      <td>4.823206</td>\n",
              "      <td>12.308333</td>\n",
              "      <td>0.876946</td>\n",
              "    </tr>\n",
              "    <tr>\n",
              "      <th>max</th>\n",
              "      <td>2.000000</td>\n",
              "      <td>100.000000</td>\n",
              "      <td>4.976928</td>\n",
              "      <td>13.213333</td>\n",
              "      <td>0.904896</td>\n",
              "    </tr>\n",
              "  </tbody>\n",
              "</table>\n",
              "</div>\n",
              "      <button class=\"colab-df-convert\" onclick=\"convertToInteractive('df-d4ae4ef9-6f5a-4fb8-87a5-5d1a67577772')\"\n",
              "              title=\"Convert this dataframe to an interactive table.\"\n",
              "              style=\"display:none;\">\n",
              "        \n",
              "  <svg xmlns=\"http://www.w3.org/2000/svg\" height=\"24px\"viewBox=\"0 0 24 24\"\n",
              "       width=\"24px\">\n",
              "    <path d=\"M0 0h24v24H0V0z\" fill=\"none\"/>\n",
              "    <path d=\"M18.56 5.44l.94 2.06.94-2.06 2.06-.94-2.06-.94-.94-2.06-.94 2.06-2.06.94zm-11 1L8.5 8.5l.94-2.06 2.06-.94-2.06-.94L8.5 2.5l-.94 2.06-2.06.94zm10 10l.94 2.06.94-2.06 2.06-.94-2.06-.94-.94-2.06-.94 2.06-2.06.94z\"/><path d=\"M17.41 7.96l-1.37-1.37c-.4-.4-.92-.59-1.43-.59-.52 0-1.04.2-1.43.59L10.3 9.45l-7.72 7.72c-.78.78-.78 2.05 0 2.83L4 21.41c.39.39.9.59 1.41.59.51 0 1.02-.2 1.41-.59l7.78-7.78 2.81-2.81c.8-.78.8-2.07 0-2.86zM5.41 20L4 18.59l7.72-7.72 1.47 1.35L5.41 20z\"/>\n",
              "  </svg>\n",
              "      </button>\n",
              "      \n",
              "  <style>\n",
              "    .colab-df-container {\n",
              "      display:flex;\n",
              "      flex-wrap:wrap;\n",
              "      gap: 12px;\n",
              "    }\n",
              "\n",
              "    .colab-df-convert {\n",
              "      background-color: #E8F0FE;\n",
              "      border: none;\n",
              "      border-radius: 50%;\n",
              "      cursor: pointer;\n",
              "      display: none;\n",
              "      fill: #1967D2;\n",
              "      height: 32px;\n",
              "      padding: 0 0 0 0;\n",
              "      width: 32px;\n",
              "    }\n",
              "\n",
              "    .colab-df-convert:hover {\n",
              "      background-color: #E2EBFA;\n",
              "      box-shadow: 0px 1px 2px rgba(60, 64, 67, 0.3), 0px 1px 3px 1px rgba(60, 64, 67, 0.15);\n",
              "      fill: #174EA6;\n",
              "    }\n",
              "\n",
              "    [theme=dark] .colab-df-convert {\n",
              "      background-color: #3B4455;\n",
              "      fill: #D2E3FC;\n",
              "    }\n",
              "\n",
              "    [theme=dark] .colab-df-convert:hover {\n",
              "      background-color: #434B5C;\n",
              "      box-shadow: 0px 1px 3px 1px rgba(0, 0, 0, 0.15);\n",
              "      filter: drop-shadow(0px 1px 2px rgba(0, 0, 0, 0.3));\n",
              "      fill: #FFFFFF;\n",
              "    }\n",
              "  </style>\n",
              "\n",
              "      <script>\n",
              "        const buttonEl =\n",
              "          document.querySelector('#df-d4ae4ef9-6f5a-4fb8-87a5-5d1a67577772 button.colab-df-convert');\n",
              "        buttonEl.style.display =\n",
              "          google.colab.kernel.accessAllowed ? 'block' : 'none';\n",
              "\n",
              "        async function convertToInteractive(key) {\n",
              "          const element = document.querySelector('#df-d4ae4ef9-6f5a-4fb8-87a5-5d1a67577772');\n",
              "          const dataTable =\n",
              "            await google.colab.kernel.invokeFunction('convertToInteractive',\n",
              "                                                     [key], {});\n",
              "          if (!dataTable) return;\n",
              "\n",
              "          const docLinkHtml = 'Like what you see? Visit the ' +\n",
              "            '<a target=\"_blank\" href=https://colab.research.google.com/notebooks/data_table.ipynb>data table notebook</a>'\n",
              "            + ' to learn more about interactive tables.';\n",
              "          element.innerHTML = '';\n",
              "          dataTable['output_type'] = 'display_data';\n",
              "          await google.colab.output.renderOutput(dataTable, element);\n",
              "          const docLink = document.createElement('div');\n",
              "          docLink.innerHTML = docLinkHtml;\n",
              "          element.appendChild(docLink);\n",
              "        }\n",
              "      </script>\n",
              "    </div>\n",
              "  </div>\n",
              "  "
            ]
          },
          "metadata": {},
          "execution_count": 78
        }
      ]
    },
    {
      "cell_type": "code",
      "execution_count": null,
      "id": "05009c60",
      "metadata": {
        "id": "05009c60",
        "outputId": "9e55f5c5-680b-4866-ca2d-68165d64c333",
        "colab": {
          "base_uri": "https://localhost:8080/"
        }
      },
      "outputs": [
        {
          "output_type": "execute_result",
          "data": {
            "text/plain": [
              "Cycle      0\n",
              "Capa       0\n",
              "Endu       0\n",
              "Percent    0\n",
              "dtype: int64"
            ]
          },
          "metadata": {},
          "execution_count": 8
        }
      ],
      "source": [
        "data.isnull().sum()"
      ]
    },
    {
      "cell_type": "code",
      "source": [
        "data2.isnull().sum()"
      ],
      "metadata": {
        "colab": {
          "base_uri": "https://localhost:8080/"
        },
        "id": "7XobuwG4w_a5",
        "outputId": "c73ee5e1-c24a-461c-da6c-fe6da8004f07"
      },
      "id": "7XobuwG4w_a5",
      "execution_count": null,
      "outputs": [
        {
          "output_type": "execute_result",
          "data": {
            "text/plain": [
              "Cycle      0\n",
              "Capa       0\n",
              "Endu       0\n",
              "Percent    0\n",
              "dtype: int64"
            ]
          },
          "metadata": {},
          "execution_count": 9
        }
      ]
    },
    {
      "cell_type": "code",
      "source": [
        "list=data_total.duplicated()\n",
        "print(list)"
      ],
      "metadata": {
        "colab": {
          "base_uri": "https://localhost:8080/"
        },
        "id": "GRMTvbpdSLnh",
        "outputId": "cbda2643-63ad-4306-e1df-afe64689998b"
      },
      "id": "GRMTvbpdSLnh",
      "execution_count": null,
      "outputs": [
        {
          "output_type": "stream",
          "name": "stdout",
          "text": [
            "0      False\n",
            "1      False\n",
            "2      False\n",
            "3      False\n",
            "4      False\n",
            "       ...  \n",
            "194    False\n",
            "195    False\n",
            "196    False\n",
            "197    False\n",
            "198    False\n",
            "Length: 199, dtype: bool\n"
          ]
        }
      ]
    },
    {
      "cell_type": "code",
      "source": [
        "list.describe()"
      ],
      "metadata": {
        "colab": {
          "base_uri": "https://localhost:8080/"
        },
        "id": "akBNRFHKUHXq",
        "outputId": "d66bd244-9995-487e-cebd-1dd1ce407967"
      },
      "id": "akBNRFHKUHXq",
      "execution_count": null,
      "outputs": [
        {
          "output_type": "execute_result",
          "data": {
            "text/plain": [
              "count       199\n",
              "unique        1\n",
              "top       False\n",
              "freq        199\n",
              "dtype: object"
            ]
          },
          "metadata": {},
          "execution_count": 101
        }
      ]
    },
    {
      "cell_type": "code",
      "execution_count": null,
      "id": "a775137b",
      "metadata": {
        "id": "a775137b",
        "outputId": "68b7e78e-e4da-4072-8b1d-bd086355e8b9",
        "colab": {
          "base_uri": "https://localhost:8080/",
          "height": 613
        }
      },
      "outputs": [
        {
          "output_type": "execute_result",
          "data": {
            "text/plain": [
              "<matplotlib.axes._subplots.AxesSubplot at 0x7fc091c7f090>"
            ]
          },
          "metadata": {},
          "execution_count": 174
        },
        {
          "output_type": "display_data",
          "data": {
            "text/plain": [
              "<Figure size 864x720 with 2 Axes>"
            ],
            "image/png": "[encoded data removed]"
          },
          "metadata": {
            "needs_background": "light"
          }
        }
      ],
      "source": [
        "import seaborn as sns\n",
        "plt.figure(figsize=(12,10)) # Correlation diagram of features  \n",
        "corr = data.corr()\n",
        "sns.heatmap(corr, xticklabels=corr.columns.values, yticklabels=corr.columns.values, center=0,  annot= True, linewidths=0.5)"
      ]
    },
    {
      "cell_type": "code",
      "execution_count": null,
      "id": "c94c860d",
      "metadata": {
        "id": "c94c860d",
        "outputId": "2ca06b8e-5607-443d-a1a1-722fda850b4a",
        "colab": {
          "base_uri": "https://localhost:8080/",
          "height": 561
        }
      },
      "outputs": [
        {
          "output_type": "execute_result",
          "data": {
            "text/plain": [
              "<matplotlib.axes._subplots.AxesSubplot at 0x7fc09b56b050>"
            ]
          },
          "metadata": {},
          "execution_count": 11
        },
        {
          "output_type": "display_data",
          "data": {
            "text/plain": [
              "<Figure size 432x288 with 1 Axes>"
            ],
            "image/png": "[encoded data removed]"
          },
          "metadata": {
            "needs_background": "light"
          }
        },
        {
          "output_type": "display_data",
          "data": {
            "text/plain": [
              "<Figure size 432x288 with 1 Axes>"
            ],
            "image/png": "[encoded data removed]"
          },
          "metadata": {
            "needs_background": "light"
          }
        }
      ],
      "source": [
        "data.plot('Cycle','Capa')\n",
        "data.plot('Cycle','Endu')"
      ]
    },
    {
      "cell_type": "code",
      "source": [
        "data2.plot('Cycle','Capa')\n",
        "data2.plot('Cycle','Endu')"
      ],
      "metadata": {
        "colab": {
          "base_uri": "https://localhost:8080/",
          "height": 558
        },
        "id": "OptoPulHQZA9",
        "outputId": "405abbf7-fe78-474c-b5dc-648ae93774f7"
      },
      "id": "OptoPulHQZA9",
      "execution_count": null,
      "outputs": [
        {
          "output_type": "execute_result",
          "data": {
            "text/plain": [
              "<matplotlib.axes._subplots.AxesSubplot at 0x7fc09b46f1d0>"
            ]
          },
          "metadata": {},
          "execution_count": 12
        },
        {
          "output_type": "display_data",
          "data": {
            "text/plain": [
              "<Figure size 432x288 with 1 Axes>"
            ],
            "image/png": "[encoded data removed]"
          },
          "metadata": {
            "needs_background": "light"
          }
        },
        {
          "output_type": "display_data",
          "data": {
            "text/plain": [
              "<Figure size 432x288 with 1 Axes>"
            ],
            "image/png": "[encoded data removed]"
          },
          "metadata": {
            "needs_background": "light"
          }
        }
      ]
    },
    {
      "cell_type": "code",
      "source": [
        "# Function to remove outlier\n",
        "def remove_outlier(df_in, col_name):\n",
        "    q1 = df_in[col_name].quantile(0.25) # Q1\n",
        "    q3 = df_in[col_name].quantile(0.75) # Q3\n",
        "    iqr = q3-q1 # Interquartile range\n",
        "    fence_low  = q1-1.5*iqr\n",
        "    fence_high = q3+1.5*iqr\n",
        "    df_out = df_in.loc[(df_in[col_name] > fence_low) & (df_in[col_name] < fence_high)]\n",
        "    return df_out\n",
        "\n",
        "New_data = remove_outlier(data, 'Percent') # remove oulier\n",
        "#New_data=data\n",
        "dataDF =pd.DataFrame(New_data) # target of train set   "
      ],
      "metadata": {
        "id": "AizXHW-t2l33"
      },
      "id": "AizXHW-t2l33",
      "execution_count": null,
      "outputs": []
    },
    {
      "cell_type": "code",
      "source": [
        "dataDF\n",
        "target=dataDF[['Percent']]\n",
        "print(target)"
      ],
      "metadata": {
        "colab": {
          "base_uri": "https://localhost:8080/"
        },
        "id": "cW9zTIllOsnM",
        "outputId": "9d2cb3f3-d695-4ea5-cf93-e74c1420ebc2"
      },
      "id": "cW9zTIllOsnM",
      "execution_count": null,
      "outputs": [
        {
          "output_type": "stream",
          "name": "stdout",
          "text": [
            "     Percent\n",
            "0   0.857335\n",
            "1   0.891237\n",
            "2   0.889141\n",
            "3   0.889687\n",
            "4   0.890942\n",
            "..       ...\n",
            "94  0.846922\n",
            "95  0.847331\n",
            "96  0.822060\n",
            "98  0.864971\n",
            "99  0.822985\n",
            "\n",
            "[99 rows x 1 columns]\n"
          ]
        }
      ]
    },
    {
      "cell_type": "code",
      "source": [
        "#target=target.to_frame(name='PackVoltx100')"
      ],
      "metadata": {
        "id": "1pnspq1FboN6"
      },
      "id": "1pnspq1FboN6",
      "execution_count": null,
      "outputs": []
    },
    {
      "cell_type": "code",
      "source": [
        "import numpy as np\n",
        "from numpy import arange\n",
        "\"\"\"New_data = New_data.drop(['Ampsx100','RPM','PackVoltx100'],axis=1)\n",
        "\"\"\"\n",
        "# function to normalize data\n",
        "def normalize_data(df):\n",
        "    for column in df.columns:\n",
        "      df[column] = df[column]/1000\n",
        "    return df\n",
        "def scale_data(df):\n",
        "    for column in df.columns:\n",
        "      df[column] = df[column]*100\n",
        "    return df\n",
        "\"\"\"\n",
        "New_data = normalize_data(New_data)\n",
        "#source = New_data\n",
        "#.drop(['PackVoltx100','Ampsx100','RPM'],axis=1)\n",
        "target=normalize_data2(target)\"\"\""
      ],
      "metadata": {
        "id": "JISdeYF62rrP",
        "colab": {
          "base_uri": "https://localhost:8080/",
          "height": 36
        },
        "outputId": "f6eadbe6-da65-4c70-f219-3095cbc9a729"
      },
      "id": "JISdeYF62rrP",
      "execution_count": null,
      "outputs": [
        {
          "output_type": "execute_result",
          "data": {
            "text/plain": [
              "\"\\nNew_data = normalize_data(New_data)\\n#source = New_data\\n#.drop(['PackVoltx100','Ampsx100','RPM'],axis=1)\\ntarget=normalize_data2(target)\""
            ],
            "application/vnd.google.colaboratory.intrinsic+json": {
              "type": "string"
            }
          },
          "metadata": {},
          "execution_count": 148
        }
      ]
    },
    {
      "cell_type": "code",
      "source": [
        "X=pd.DataFrame(dataDF[['Cycle']])  #Cycle\n",
        "y=scale_data(target)    #Percent, endu"
      ],
      "metadata": {
        "id": "4xJmglq--j5y",
        "colab": {
          "base_uri": "https://localhost:8080/"
        },
        "outputId": "2af6d0a7-f09b-46cb-cfb4-dc8297776985"
      },
      "id": "4xJmglq--j5y",
      "execution_count": null,
      "outputs": [
        {
          "output_type": "stream",
          "name": "stderr",
          "text": [
            "/usr/local/lib/python3.7/dist-packages/ipykernel_launcher.py:12: SettingWithCopyWarning: \n",
            "A value is trying to be set on a copy of a slice from a DataFrame.\n",
            "Try using .loc[row_indexer,col_indexer] = value instead\n",
            "\n",
            "See the caveats in the documentation: https://pandas.pydata.org/pandas-docs/stable/user_guide/indexing.html#returning-a-view-versus-a-copy\n",
            "  if sys.path[0] == '':\n"
          ]
        }
      ]
    },
    {
      "cell_type": "code",
      "source": [
        "'''plt.plot(dataDF.Cycle,dataDF.Percent)\n",
        "plt.xlabel('Cycle')\n",
        "plt.ylabel('Capa in %')'''"
      ],
      "metadata": {
        "colab": {
          "base_uri": "https://localhost:8080/",
          "height": 36
        },
        "id": "Nmz0SXWS2DmH",
        "outputId": "ab5911ae-2bb1-4ba6-f9e6-89b05b8c0fe5"
      },
      "id": "Nmz0SXWS2DmH",
      "execution_count": null,
      "outputs": [
        {
          "output_type": "execute_result",
          "data": {
            "text/plain": [
              "\"plt.plot(dataDF.Cycle,dataDF.Percent)\\nplt.xlabel('Cycle')\\nplt.ylabel('Capa in %')\""
            ],
            "application/vnd.google.colaboratory.intrinsic+json": {
              "type": "string"
            }
          },
          "metadata": {},
          "execution_count": 131
        }
      ]
    },
    {
      "cell_type": "code",
      "source": [
        "X2=pd.DataFrame(data2[['Cycle']])\n",
        "y2=scale_data(pd.DataFrame(data2[['Percent']]))"
      ],
      "metadata": {
        "id": "Y0tjIpTog96V"
      },
      "id": "Y0tjIpTog96V",
      "execution_count": null,
      "outputs": []
    },
    {
      "cell_type": "code",
      "execution_count": null,
      "id": "03d62504",
      "metadata": {
        "id": "03d62504"
      },
      "outputs": [],
      "source": [
        "from sklearn.model_selection import train_test_split\n",
        "from sklearn.linear_model import Lasso\n",
        "from sklearn.ensemble import GradientBoostingRegressor\n",
        "from sklearn.metrics import mean_squared_error\n",
        "from sklearn.metrics import mean_absolute_percentage_error\n",
        "from sklearn.neural_network import MLPRegressor\n",
        "from sklearn.model_selection import GridSearchCV\n",
        "from sklearn.model_selection import RepeatedKFold\n",
        "from sklearn.metrics import SCORERS"
      ]
    },
    {
      "cell_type": "code",
      "source": [
        "print(SCORERS.keys())"
      ],
      "metadata": {
        "colab": {
          "base_uri": "https://localhost:8080/"
        },
        "id": "a3xHNRN3xTjM",
        "outputId": "cfc57e17-fdb2-4f00-ae72-f7287ef63086"
      },
      "id": "a3xHNRN3xTjM",
      "execution_count": null,
      "outputs": [
        {
          "output_type": "stream",
          "name": "stdout",
          "text": [
            "dict_keys(['explained_variance', 'r2', 'max_error', 'neg_median_absolute_error', 'neg_mean_absolute_error', 'neg_mean_absolute_percentage_error', 'neg_mean_squared_error', 'neg_mean_squared_log_error', 'neg_root_mean_squared_error', 'neg_mean_poisson_deviance', 'neg_mean_gamma_deviance', 'accuracy', 'top_k_accuracy', 'roc_auc', 'roc_auc_ovr', 'roc_auc_ovo', 'roc_auc_ovr_weighted', 'roc_auc_ovo_weighted', 'balanced_accuracy', 'average_precision', 'neg_log_loss', 'neg_brier_score', 'adjusted_rand_score', 'rand_score', 'homogeneity_score', 'completeness_score', 'v_measure_score', 'mutual_info_score', 'adjusted_mutual_info_score', 'normalized_mutual_info_score', 'fowlkes_mallows_score', 'precision', 'precision_macro', 'precision_micro', 'precision_samples', 'precision_weighted', 'recall', 'recall_macro', 'recall_micro', 'recall_samples', 'recall_weighted', 'f1', 'f1_macro', 'f1_micro', 'f1_samples', 'f1_weighted', 'jaccard', 'jaccard_macro', 'jaccard_micro', 'jaccard_samples', 'jaccard_weighted'])\n"
          ]
        }
      ]
    },
    {
      "cell_type": "code",
      "execution_count": null,
      "id": "b2233006",
      "metadata": {
        "scrolled": true,
        "id": "b2233006"
      },
      "outputs": [],
      "source": [
        "X_train, X_test, y_train, y_test = train_test_split(X, y, test_size=0.2,random_state=1) # Divide the data into 2 train set and test set\n",
        "'''X_train=X\n",
        "y_train=y\n",
        "X_test=X2\n",
        "y_test=y2'''\n",
        "model_lasso=Lasso(alpha=0.1)\n",
        "#cv = RepeatedKFold(n_splits=4, n_repeats=3, random_state=1)\n",
        "#grid = dict()\n",
        "#grid['alpha']=arange(0, 1, 0.01)\n",
        "#search=GridSearchCV(model_lasso, grid, scoring='neg_mean_absolute_percentage_error',cv=cv, n_jobs=-1)\n",
        "model_lasso.fit(X_train, y_train)\n",
        "y_predic=model_lasso.predict(X_test)\n",
        "#results=search.fit(X_train,y_train)"
      ]
    },
    {
      "cell_type": "code",
      "source": [
        "#y_predict=results.predict(X_test)"
      ],
      "metadata": {
        "id": "3Smi72W9y5Zt"
      },
      "id": "3Smi72W9y5Zt",
      "execution_count": null,
      "outputs": []
    },
    {
      "cell_type": "code",
      "execution_count": null,
      "id": "54ebaeae",
      "metadata": {
        "id": "54ebaeae",
        "outputId": "8a6ca2bf-a9ea-41fb-e9e0-ceca8a62dbe2",
        "colab": {
          "base_uri": "https://localhost:8080/"
        }
      },
      "outputs": [
        {
          "output_type": "stream",
          "name": "stdout",
          "text": [
            "MAPE 0.00987624076721964\n",
            "MSE 0.9866481704184334\n"
          ]
        }
      ],
      "source": [
        "print('MAPE',mean_absolute_percentage_error(y_test,y_predic))\n",
        "print('MSE', mean_squared_error(y_test, y_predic))"
      ]
    },
    {
      "cell_type": "code",
      "source": [
        "#print('MAPE: %.3f' % results.best_score_)\n",
        "#print('Config: %s' % results.best_params_)"
      ],
      "metadata": {
        "id": "y3rvm_-xw3fF"
      },
      "id": "y3rvm_-xw3fF",
      "execution_count": null,
      "outputs": []
    },
    {
      "cell_type": "code",
      "execution_count": null,
      "id": "84ffd5b1",
      "metadata": {
        "scrolled": true,
        "id": "84ffd5b1",
        "outputId": "36f7311c-76ef-4b76-98e1-5e32b6952ebd",
        "colab": {
          "base_uri": "https://localhost:8080/",
          "height": 296
        }
      },
      "outputs": [
        {
          "output_type": "display_data",
          "data": {
            "text/plain": [
              "<Figure size 432x288 with 1 Axes>"
            ],
            "image/png": "[encoded data removed]"
          },
          "metadata": {
            "needs_background": "light"
          }
        }
      ],
      "source": [
        "#plt.scatter(y_test,y_predic) # plot to compare y_predicted and y_test\n",
        "X_vex1=X_test.Cycle\n",
        "#X_vex2=X_predic\n",
        "plt.plot(X_vex1,y_test,'.r',label='Percent Value')\n",
        "plt.plot(X_vex1,y_predic,'ob',label='Percent Predicted')\n",
        "#plt.plot(X_test,y_predic['Percent'],'.b')\n",
        "plt.xlabel('X_test-Cycle') # assign label for x axis\n",
        "plt.ylabel('Value-%') # assign label for y axis\n",
        "plt.title('LASSO') # assign title for diagram\n",
        "plt.legend()\n",
        "plt.show()"
      ]
    },
    {
      "cell_type": "code",
      "source": [
        "X_train_gbt, X_test_gbt, y_train_gbt, y_test_gbt = train_test_split(X, y, test_size=0.2)\n",
        "'''X_train_gbt=X\n",
        "X_test_gbt=X2\n",
        "y_train_gbt=y\n",
        "y_test_gbt=y2'''\n",
        "model_gbt=GradientBoostingRegressor()\n",
        "grid_gbt=dict()\n",
        "grid_gbt['subsample']=[0.1,0.3]\n",
        "grid_gbt['max_depth']=arange(0, 10, 1)\n",
        "grid_gbt['n_estimators']=(100,200,300,400)\n",
        "grid_gbt['learning_rate']=arange(0.01, 0.1, 0.01)\n",
        "'''X_train_gbt=X_train_gbt.reshape(1,-1)\n",
        "y_train_gbt=y_train_gbt.reshape(1,-1)\n",
        "X_test_gbt=X_test_gbt.reshape(1,-1)\n",
        "y_test_gbt=y_test_gbt.reshape(1,-1)'''\n",
        "#model_gbt=GradientBoostingRegressor(max_depth=2, n_estimators=100,learning_rate=0.01)\n",
        "#model_gbt.fit(X_train_gbt,y_train_gbt.values.ravel())\n",
        "search=GridSearchCV(model_gbt, grid_gbt, scoring='neg_mean_absolute_percentage_error', n_jobs=-1)\n",
        "results_gbt=search.fit(X_train_gbt,y_train_gbt)\n",
        "y_predic_gbt=results_gbt.predict(X_test_gbt)"
      ],
      "metadata": {
        "id": "nQjg_6Nq_Pm5",
        "colab": {
          "base_uri": "https://localhost:8080/"
        },
        "outputId": "e619c053-68c6-447e-a5a9-e02d6c712d1c"
      },
      "id": "nQjg_6Nq_Pm5",
      "execution_count": null,
      "outputs": [
        {
          "output_type": "stream",
          "name": "stderr",
          "text": [
            "/usr/local/lib/python3.7/dist-packages/sklearn/model_selection/_validation.py:372: FitFailedWarning: \n",
            "360 fits failed out of a total of 3600.\n",
            "The score on these train-test partitions for these parameters will be set to nan.\n",
            "If these failures are not expected, you can try to debug them by setting error_score='raise'.\n",
            "\n",
            "Below are more details about the failures:\n",
            "--------------------------------------------------------------------------------\n",
            "360 fits failed with the following error:\n",
            "Traceback (most recent call last):\n",
            "  File \"/usr/local/lib/python3.7/dist-packages/sklearn/model_selection/_validation.py\", line 680, in _fit_and_score\n",
            "    estimator.fit(X_train, y_train, **fit_params)\n",
            "  File \"/usr/local/lib/python3.7/dist-packages/sklearn/ensemble/_gb.py\", line 596, in fit\n",
            "    monitor,\n",
            "  File \"/usr/local/lib/python3.7/dist-packages/sklearn/ensemble/_gb.py\", line 672, in _fit_stages\n",
            "    X_csr,\n",
            "  File \"/usr/local/lib/python3.7/dist-packages/sklearn/ensemble/_gb.py\", line 246, in _fit_stage\n",
            "    tree.fit(X, residual, sample_weight=sample_weight, check_input=False)\n",
            "  File \"/usr/local/lib/python3.7/dist-packages/sklearn/tree/_classes.py\", line 1320, in fit\n",
            "    X_idx_sorted=X_idx_sorted,\n",
            "  File \"/usr/local/lib/python3.7/dist-packages/sklearn/tree/_classes.py\", line 306, in fit\n",
            "    raise ValueError(\"max_depth must be greater than zero. \")\n",
            "ValueError: max_depth must be greater than zero. \n",
            "\n",
            "  warnings.warn(some_fits_failed_message, FitFailedWarning)\n",
            "/usr/local/lib/python3.7/dist-packages/sklearn/model_selection/_search.py:972: UserWarning: One or more of the test scores are non-finite: [        nan         nan         nan         nan         nan         nan\n",
            "         nan         nan -0.01116843 -0.01076181 -0.00959874 -0.00942143\n",
            " -0.00933143 -0.00922947 -0.0092027  -0.00917813 -0.01079028 -0.01010726\n",
            " -0.00974517 -0.00924295 -0.00920694 -0.00943739 -0.00935315 -0.00950054\n",
            " -0.01061099 -0.01014466 -0.00965028 -0.00948083 -0.00909376 -0.00957474\n",
            " -0.00937519 -0.00997418 -0.01069421 -0.01007186 -0.00935025 -0.0096042\n",
            " -0.00914992 -0.00988239 -0.00918293 -0.01022455 -0.01071163 -0.01015295\n",
            " -0.00949821 -0.00980294 -0.00933255 -0.01014194 -0.00921909 -0.01049553\n",
            " -0.01067808 -0.01025484 -0.0091958  -0.00990383 -0.00931142 -0.01018183\n",
            " -0.0091078  -0.01062451 -0.01060166 -0.01010249 -0.00947432 -0.01004893\n",
            " -0.00919528 -0.01021623 -0.00926196 -0.01061673 -0.01066121 -0.01025924\n",
            " -0.00932141 -0.00999469 -0.00928871 -0.01036955 -0.00944451 -0.01064127\n",
            " -0.01053939 -0.01038136 -0.00931946 -0.00984404 -0.00934779 -0.01024369\n",
            " -0.00932404 -0.01073067         nan         nan         nan         nan\n",
            "         nan         nan         nan         nan -0.00982107 -0.00952191\n",
            " -0.00941136 -0.00932706 -0.00934351 -0.00948551 -0.0095189  -0.00962433\n",
            " -0.00961486 -0.00918284 -0.00884795 -0.00935865 -0.00947737 -0.00972955\n",
            " -0.00952308 -0.01005431 -0.00974398 -0.00951352 -0.00918341 -0.00986396\n",
            " -0.00937329 -0.01031954 -0.00936894 -0.010577   -0.00960338 -0.00959846\n",
            " -0.00937867 -0.01023219 -0.00953689 -0.01088483 -0.00969294 -0.01124484\n",
            " -0.00949418 -0.00954667 -0.00929502 -0.01062782 -0.00949991 -0.01101419\n",
            " -0.0096642  -0.01151625 -0.00926641 -0.00969378 -0.00926067 -0.01053251\n",
            " -0.00923371 -0.0112722  -0.00953058 -0.01188485 -0.0094686  -0.00961629\n",
            " -0.00934603 -0.01074975 -0.00973795 -0.01138601 -0.00973635 -0.01185715\n",
            " -0.00943188 -0.0098972  -0.00952506 -0.01092825 -0.00956073 -0.01151918\n",
            " -0.00949195 -0.01215396 -0.00950318 -0.00983592 -0.00950155 -0.01091449\n",
            " -0.00954885 -0.01140114 -0.00935767 -0.01232034         nan         nan\n",
            "         nan         nan         nan         nan         nan         nan\n",
            " -0.00940654 -0.00920442 -0.0093918  -0.00921964 -0.00923459 -0.00957057\n",
            " -0.00966836 -0.00964444 -0.0093756  -0.00966376 -0.00946891 -0.00965179\n",
            " -0.00956681 -0.0100171  -0.00971758 -0.01033756 -0.00895889 -0.00975341\n",
            " -0.00920432 -0.01035041 -0.00973767 -0.01079066 -0.01009874 -0.01126734\n",
            " -0.00939591 -0.00991858 -0.00960508 -0.01068533 -0.00944927 -0.01147608\n",
            " -0.00995499 -0.01194121 -0.00944132 -0.01026279 -0.00966473 -0.01107458\n",
            " -0.009578   -0.01185188 -0.0099722  -0.01245849 -0.00936521 -0.01027753\n",
            " -0.00963613 -0.01126511 -0.00979917 -0.01193386 -0.01001076 -0.01241907\n",
            " -0.00927121 -0.0103475  -0.00987749 -0.01136518 -0.00984957 -0.01249202\n",
            " -0.01018136 -0.01285815 -0.00886756 -0.01055433 -0.00951673 -0.01155565\n",
            " -0.0092761  -0.01250385 -0.01020064 -0.01293661 -0.00933861 -0.0105847\n",
            " -0.00922658 -0.01192346 -0.00957425 -0.01212204 -0.01047393 -0.01342736\n",
            "         nan         nan         nan         nan         nan         nan\n",
            "         nan         nan -0.00953186 -0.00949449 -0.00931495 -0.00953845\n",
            " -0.00971591 -0.00948848 -0.00943533 -0.00984304 -0.00944021 -0.00939083\n",
            " -0.00974718 -0.01014082 -0.0097262  -0.01024756 -0.0099115  -0.01096531\n",
            " -0.00900274 -0.01003527 -0.01004765 -0.01102902 -0.01002724 -0.01135914\n",
            " -0.01034391 -0.01186215 -0.00920752 -0.0102529  -0.0095107  -0.01108408\n",
            " -0.00993944 -0.01158447 -0.01044833 -0.0122655  -0.00945643 -0.01032589\n",
            " -0.00949698 -0.01162943 -0.01014329 -0.01232075 -0.01070909 -0.01260408\n",
            " -0.00960278 -0.01090899 -0.00987838 -0.01185599 -0.01007997 -0.01227441\n",
            " -0.00985678 -0.01295067 -0.00940725 -0.01089425 -0.01005657 -0.01226473\n",
            " -0.01039845 -0.01272164 -0.01084081 -0.01314888 -0.00937458 -0.01107695\n",
            " -0.00935952 -0.01218912 -0.01000107 -0.01267934 -0.01017936 -0.01363812\n",
            " -0.00948018 -0.01082372 -0.01006074 -0.01213627 -0.00992884 -0.0132409\n",
            " -0.01008932 -0.01277736         nan         nan         nan         nan\n",
            "         nan         nan         nan         nan -0.00929576 -0.00940748\n",
            " -0.00958932 -0.00969046 -0.00965924 -0.00972809 -0.00921912 -0.01001636\n",
            " -0.00955136 -0.00948967 -0.00936176 -0.01037331 -0.01059728 -0.01080535\n",
            " -0.01007618 -0.01114488 -0.00963729 -0.01009325 -0.01001682 -0.01092632\n",
            " -0.01063293 -0.01153902 -0.01032463 -0.01232391 -0.00963817 -0.01015742\n",
            " -0.0097102  -0.01184014 -0.00981628 -0.01226701 -0.01093481 -0.01266604\n",
            " -0.00963853 -0.01080525 -0.01009123 -0.01207999 -0.01037351 -0.0124823\n",
            " -0.01053264 -0.01321364 -0.00926804 -0.01084118 -0.01017036 -0.01233556\n",
            " -0.01061945 -0.01271032 -0.01075994 -0.0137618  -0.00969037 -0.01121664\n",
            " -0.0104146  -0.01225186 -0.01026349 -0.01350061 -0.01059226 -0.01340291\n",
            " -0.00988341 -0.0114969  -0.00964683 -0.01205059 -0.01054013 -0.013334\n",
            " -0.01076708 -0.01363499 -0.00943512 -0.01129481 -0.00995201 -0.01247147\n",
            " -0.0102013  -0.01370135 -0.01046782 -0.01354505         nan         nan\n",
            "         nan         nan         nan         nan         nan         nan\n",
            " -0.00910295 -0.00937428 -0.00980908 -0.00999671 -0.00952205 -0.00996735\n",
            " -0.01002007 -0.01028019 -0.0091231  -0.00964321 -0.00978412 -0.01057948\n",
            " -0.01038214 -0.01122137 -0.01080898 -0.01123598 -0.00991231 -0.01040216\n",
            " -0.01060847 -0.01125641 -0.01082693 -0.0118179  -0.0102885  -0.01242699\n",
            " -0.00986466 -0.01120611 -0.0105846  -0.01188873 -0.01007421 -0.01265733\n",
            " -0.01133166 -0.01363427 -0.00984415 -0.01127838 -0.00985195 -0.01244042\n",
            " -0.01092801 -0.01328849 -0.01117849 -0.01326675 -0.00991998 -0.01182742\n",
            " -0.01023575 -0.01310905 -0.01074744 -0.01353278 -0.01102772 -0.01390675\n",
            " -0.00983805 -0.01132717 -0.00974971 -0.01279078 -0.01038154 -0.01331178\n",
            " -0.01030218 -0.01360191 -0.01028952 -0.01181919 -0.01012736 -0.01275329\n",
            " -0.01034596 -0.01374868 -0.01063417 -0.01354904 -0.00958273 -0.01139192\n",
            " -0.0099666  -0.01249752 -0.01098431 -0.01307571 -0.01100682 -0.01424388\n",
            "         nan         nan         nan         nan         nan         nan\n",
            "         nan         nan -0.00942892 -0.00932463 -0.00955314 -0.00986935\n",
            " -0.0099427  -0.01016145 -0.01023745 -0.01027271 -0.0098206  -0.01006192\n",
            " -0.01043544 -0.01076309 -0.01101432 -0.01116049 -0.01098295 -0.01162924\n",
            " -0.0093937  -0.01080872 -0.01078656 -0.01178966 -0.01052628 -0.01220303\n",
            " -0.01072266 -0.01283535 -0.00993423 -0.01125856 -0.01033797 -0.01211733\n",
            " -0.01091656 -0.01321231 -0.01142889 -0.01365009 -0.01005933 -0.01135204\n",
            " -0.01092513 -0.01242108 -0.01050229 -0.0133722  -0.01103894 -0.01382833\n",
            " -0.00980181 -0.01159586 -0.00998199 -0.01263299 -0.01162501 -0.01355217\n",
            " -0.0110637  -0.01436614 -0.01088748 -0.01162404 -0.01003128 -0.01335396\n",
            " -0.01068745 -0.01340353 -0.01136677 -0.01419081 -0.00942231 -0.01204631\n",
            " -0.01042774 -0.01314793 -0.01065806 -0.01377528 -0.01134055 -0.01426716\n",
            " -0.00985627 -0.01141773 -0.01080565 -0.01336625 -0.01091268 -0.01403877\n",
            " -0.01124748 -0.01405626         nan         nan         nan         nan\n",
            "         nan         nan         nan         nan -0.00940312 -0.00940471\n",
            " -0.00971905 -0.00956465 -0.00964166 -0.01027269 -0.0101153  -0.01027204\n",
            " -0.00992086 -0.00974126 -0.01019956 -0.01097912 -0.01175313 -0.01198622\n",
            " -0.01083436 -0.01177917 -0.00983117 -0.01086933 -0.01123985 -0.01206672\n",
            " -0.01078508 -0.01283586 -0.01110342 -0.01323594 -0.0095772  -0.01115099\n",
            " -0.01033702 -0.012373   -0.01130998 -0.0131858  -0.01181421 -0.01352311\n",
            " -0.01011713 -0.01167018 -0.01078733 -0.01321083 -0.01136442 -0.01360443\n",
            " -0.0117406  -0.01382115 -0.00997055 -0.01242252 -0.01124499 -0.01330503\n",
            " -0.01043146 -0.01288012 -0.01214491 -0.01442574 -0.01003989 -0.01201206\n",
            " -0.01021404 -0.01351816 -0.01043432 -0.01372712 -0.0118755  -0.01405489\n",
            " -0.00926379 -0.01193157 -0.01052565 -0.01405738 -0.01106805 -0.01410486\n",
            " -0.01128953 -0.01446748 -0.01007056 -0.012229   -0.01079695 -0.01342549\n",
            " -0.01083478 -0.01439589 -0.01159896 -0.01426388         nan         nan\n",
            "         nan         nan         nan         nan         nan         nan\n",
            " -0.00934139 -0.00966066 -0.01031081 -0.00999642 -0.01025798 -0.00993341\n",
            " -0.01043359 -0.01061404 -0.01048561 -0.01045547 -0.00997074 -0.01061618\n",
            " -0.01063787 -0.01182565 -0.01210236 -0.01193158 -0.00989026 -0.01095169\n",
            " -0.01060383 -0.01220341 -0.01132201 -0.01250863 -0.01126059 -0.01327359\n",
            " -0.01075581 -0.01122605 -0.01093673 -0.01334087 -0.00992033 -0.01368988\n",
            " -0.01219333 -0.01371726 -0.01011495 -0.01177876 -0.01124392 -0.01374627\n",
            " -0.01106901 -0.01402858 -0.01157651 -0.01412799 -0.01028026 -0.01213659\n",
            " -0.01097047 -0.01367909 -0.01135852 -0.01399561 -0.01164512 -0.01452231\n",
            " -0.0107709  -0.01214201 -0.01040359 -0.01316098 -0.01182132 -0.0137272\n",
            " -0.01200774 -0.01470928 -0.0096653  -0.01225946 -0.01158714 -0.01377695\n",
            " -0.01022949 -0.01437969 -0.01212475 -0.01406384 -0.0100609  -0.01221026\n",
            " -0.01031462 -0.01369156 -0.01134314 -0.01392662 -0.01197173 -0.01405621]\n",
            "  category=UserWarning,\n",
            "/usr/local/lib/python3.7/dist-packages/sklearn/ensemble/_gb.py:494: DataConversionWarning: A column-vector y was passed when a 1d array was expected. Please change the shape of y to (n_samples, ), for example using ravel().\n",
            "  y = column_or_1d(y, warn=True)\n"
          ]
        }
      ]
    },
    {
      "cell_type": "code",
      "source": [
        "print('MAPE: %.3f' % results_gbt.best_score_)\n",
        "print('Config: %s' % results_gbt.best_params_)"
      ],
      "metadata": {
        "colab": {
          "base_uri": "https://localhost:8080/"
        },
        "id": "FQ1AoELw7UTd",
        "outputId": "92c30099-07a7-4ea3-fc07-d0c05bb5d8a6"
      },
      "id": "FQ1AoELw7UTd",
      "execution_count": null,
      "outputs": [
        {
          "output_type": "stream",
          "name": "stdout",
          "text": [
            "MAPE: -0.009\n",
            "Config: {'learning_rate': 0.02, 'max_depth': 2, 'n_estimators': 200, 'subsample': 0.1}\n"
          ]
        }
      ]
    },
    {
      "cell_type": "code",
      "source": [
        "gbt_best=GradientBoostingRegressor(**results_gbt.best_params_)\n",
        "gbt_best.fit(X_train_gbt,y_train_gbt)\n",
        "y_predic_gbt=gbt_best.predict(X_test_gbt)"
      ],
      "metadata": {
        "colab": {
          "base_uri": "https://localhost:8080/"
        },
        "id": "rejh4EaKORUL",
        "outputId": "1cccee97-6193-4272-94de-cd510853e05d"
      },
      "id": "rejh4EaKORUL",
      "execution_count": null,
      "outputs": [
        {
          "output_type": "stream",
          "name": "stderr",
          "text": [
            "/usr/local/lib/python3.7/dist-packages/sklearn/ensemble/_gb.py:494: DataConversionWarning: A column-vector y was passed when a 1d array was expected. Please change the shape of y to (n_samples, ), for example using ravel().\n",
            "  y = column_or_1d(y, warn=True)\n"
          ]
        }
      ]
    },
    {
      "cell_type": "code",
      "source": [
        "# plot to compare y_predicted and y_test\n",
        "X_vex2=X_test_gbt.Cycle\n",
        "plt.plot(X_vex2,y_test_gbt,'.r',label='Percent Value')\n",
        "plt.plot(X_vex2,y_predic_gbt,'ob',label='Percent Predicted')\n",
        "plt.xlabel('X_test') # assign label for x axis\n",
        "plt.ylabel('Value') # assign label for y axis\n",
        "plt.title('GBT') # assign title for diagram\n",
        "plt.legend()\n",
        "plt.show()"
      ],
      "metadata": {
        "colab": {
          "base_uri": "https://localhost:8080/",
          "height": 296
        },
        "id": "oTZkDjsL_oVZ",
        "outputId": "0d59051b-b07f-435a-82de-74daa3f5885e"
      },
      "id": "oTZkDjsL_oVZ",
      "execution_count": null,
      "outputs": [
        {
          "output_type": "display_data",
          "data": {
            "text/plain": [
              "<Figure size 432x288 with 1 Axes>"
            ],
            "image/png": "[encoded data removed]"
          },
          "metadata": {
            "needs_background": "light"
          }
        }
      ]
    },
    {
      "cell_type": "code",
      "source": [
        "print('MAPE',mean_absolute_percentage_error(y_test_gbt,y_predic_gbt))\n",
        "print('MSE', mean_squared_error(y_test_gbt, y_predic_gbt))"
      ],
      "metadata": {
        "colab": {
          "base_uri": "https://localhost:8080/"
        },
        "id": "pssze18u_2zq",
        "outputId": "93dfc4e1-4b17-4667-91b8-8ecf27598189"
      },
      "id": "pssze18u_2zq",
      "execution_count": null,
      "outputs": [
        {
          "output_type": "stream",
          "name": "stdout",
          "text": [
            "MAPE 0.008538747275047272\n",
            "MSE 0.8042077081061821\n"
          ]
        }
      ]
    },
    {
      "cell_type": "code",
      "source": [
        "X_train_lssvr,X_test_lssvr,y_train_lssvr,y_test_lssvr= train_test_split(X,y, test_size=0.2)\n",
        "'''X_train_lssvr=X\n",
        "X_test_lssvr=X2\n",
        "y_train_lssvr=y\n",
        "y_test_lssvr=y2'''\n",
        "model_lssvr=LSSVR(kernel='linear', gamma=2**-4)\n",
        "model_lssvr.fit(X_train_lssvr,y_train_lssvr)\n",
        "y_predic_lssvr = model_lssvr.predict(X_test_lssvr)"
      ],
      "metadata": {
        "id": "RBO-A3EYAFIY"
      },
      "id": "RBO-A3EYAFIY",
      "execution_count": null,
      "outputs": []
    },
    {
      "cell_type": "code",
      "source": [
        "#\n",
        "X_vex3=X_test_lssvr.Cycle\n",
        "plt.plot(X_vex3,y_test_lssvr,'.r')\n",
        "plt.plot(X_vex3,y_predic_lssvr,'ob') \n",
        "plt.xlabel('X_test') # assign label for x axis\n",
        "plt.ylabel('Value') # assign label for y axis\n",
        "plt.title('LSSVR') # assign title for diagram\n",
        "plt.show()"
      ],
      "metadata": {
        "colab": {
          "base_uri": "https://localhost:8080/",
          "height": 296
        },
        "id": "laD8SvDNC0j0",
        "outputId": "f9486ab4-b309-4e95-e548-60578484693f"
      },
      "id": "laD8SvDNC0j0",
      "execution_count": null,
      "outputs": [
        {
          "output_type": "display_data",
          "data": {
            "text/plain": [
              "<Figure size 432x288 with 1 Axes>"
            ],
            "image/png": "[encoded data removed]"
          },
          "metadata": {
            "needs_background": "light"
          }
        }
      ]
    },
    {
      "cell_type": "code",
      "source": [
        "print('MAPE',mean_absolute_percentage_error(y_test_lssvr,y_predic_lssvr))\n",
        "print('MSE', mean_squared_error(y_test_lssvr, y_predic_lssvr))"
      ],
      "metadata": {
        "colab": {
          "base_uri": "https://localhost:8080/"
        },
        "id": "lLK3EObZDAWS",
        "outputId": "e7e4b332-8620-43b3-b85f-fe7ce6ecbf77"
      },
      "id": "lLK3EObZDAWS",
      "execution_count": null,
      "outputs": [
        {
          "output_type": "stream",
          "name": "stdout",
          "text": [
            "MAPE 0.00846943056289492\n",
            "MSE 0.9788567882725573\n"
          ]
        }
      ]
    },
    {
      "cell_type": "code",
      "source": [
        "from sklearn.preprocessing import StandardScaler\n",
        "scale=StandardScaler()"
      ],
      "metadata": {
        "id": "EtvNrKNgCVzz"
      },
      "id": "EtvNrKNgCVzz",
      "execution_count": null,
      "outputs": []
    },
    {
      "cell_type": "code",
      "source": [
        "X_train_mlp,X_test_mlp,y_train_mlp,y_test_mlp=train_test_split(X,y, test_size=0.2,random_state=1)\n",
        "'''X_train_mlp=X\n",
        "X_test_mlp=X2\n",
        "y_train_mlp=y\n",
        "y_test_mlp=y2'''\n",
        "model_mlp=MLPRegressor(hidden_layer_sizes=(12,12,12),max_iter=100,activation='relu',solver='lbfgs')\n",
        "model_mlp.fit(X_train_mlp,y_train_mlp.values.ravel())\n",
        "#.values.ravel()\n",
        "y_predic_mlp=model_mlp.predict(X_test_mlp)"
      ],
      "metadata": {
        "id": "Zc1NAW7jEAHs"
      },
      "id": "Zc1NAW7jEAHs",
      "execution_count": null,
      "outputs": []
    },
    {
      "cell_type": "code",
      "source": [
        "X_vex4=X_test_mlp.Cycle\n",
        "#\n",
        "plt.plot(X_vex4,y_test_mlp,'.r')\n",
        "plt.plot(X_vex4,y_predic_mlp,'ob')\n",
        "plt.xlabel('X_test') # assign label for x axis\n",
        "plt.ylabel('Value') # assign label for y axis\n",
        "plt.title('MLP') # assign title for diagram\n",
        "plt.show()"
      ],
      "metadata": {
        "colab": {
          "base_uri": "https://localhost:8080/",
          "height": 296
        },
        "id": "66MqhtZfFP7v",
        "outputId": "2b7de062-0912-41ac-e6f5-02cf2afda296"
      },
      "id": "66MqhtZfFP7v",
      "execution_count": null,
      "outputs": [
        {
          "output_type": "display_data",
          "data": {
            "text/plain": [
              "<Figure size 432x288 with 1 Axes>"
            ],
            "image/png": "[encoded data removed]"
          },
          "metadata": {
            "needs_background": "light"
          }
        }
      ]
    },
    {
      "cell_type": "code",
      "source": [
        "print('MAPE',mean_absolute_percentage_error(y_test_mlp,y_predic_mlp))\n",
        "print('MSE', mean_squared_error(y_test_mlp, y_predic_mlp))"
      ],
      "metadata": {
        "colab": {
          "base_uri": "https://localhost:8080/"
        },
        "id": "9QFxYuXQF1Ny",
        "outputId": "811073fb-21be-4a9b-e756-17bc8068de89"
      },
      "id": "9QFxYuXQF1Ny",
      "execution_count": null,
      "outputs": [
        {
          "output_type": "stream",
          "name": "stdout",
          "text": [
            "MAPE 0.009875873043792439\n",
            "MSE 0.9833018329920652\n"
          ]
        }
      ]
    },
    {
      "cell_type": "code",
      "source": [
        "gtktra=([[300]])\n",
        "y_ktra=model_mlp.predict(gtktra)\n",
        "#y_ktra=gbt_best.predict(gtktra)\n",
        "print(y_ktra)"
      ],
      "metadata": {
        "colab": {
          "base_uri": "https://localhost:8080/"
        },
        "id": "exDn1np1uTXJ",
        "outputId": "dc430a70-6ab6-416a-e43b-3e263e1a6fca"
      },
      "id": "exDn1np1uTXJ",
      "execution_count": null,
      "outputs": [
        {
          "output_type": "stream",
          "name": "stdout",
          "text": [
            "[84.31943008]\n"
          ]
        },
        {
          "output_type": "stream",
          "name": "stderr",
          "text": [
            "/usr/local/lib/python3.7/dist-packages/sklearn/base.py:451: UserWarning: X does not have valid feature names, but MLPRegressor was fitted with feature names\n",
            "  \"X does not have valid feature names, but\"\n"
          ]
        }
      ]
    }
  ],
  "metadata": {
    "kernelspec": {
      "display_name": "Python 3",
      "language": "python",
      "name": "python3"
    },
    "language_info": {
      "codemirror_mode": {
        "name": "ipython",
        "version": 3
      },
      "file_extension": ".py",
      "mimetype": "text/x-python",
      "name": "python",
      "nbconvert_exporter": "python",
      "pygments_lexer": "ipython3",
      "version": "3.8.8"
    },
    "colab": {
      "name": "TongHop.ipynb",
      "provenance": [],
      "collapsed_sections": []
    }
  },
  "nbformat": 4,
  "nbformat_minor": 5
}