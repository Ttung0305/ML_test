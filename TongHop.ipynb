{
  "cells": [
    {
      "cell_type": "code",
      "source": [
        "from google.colab import drive\n",
        "drive.mount('/content/drive')"
      ],
      "metadata": {
        "id": "v6eRUocYz7ab",
        "colab": {
          "base_uri": "https://localhost:8080/"
        },
        "outputId": "1257c930-eb7f-4e24-bfc8-ff253fcfa0cd"
      },
      "id": "v6eRUocYz7ab",
      "execution_count": 1,
      "outputs": [
        {
          "output_type": "stream",
          "name": "stdout",
          "text": [
            "Drive already mounted at /content/drive; to attempt to forcibly remount, call drive.mount(\"/content/drive\", force_remount=True).\n"
          ]
        }
      ]
    },
    {
      "cell_type": "code",
      "execution_count": 2,
      "id": "2ac72141",
      "metadata": {
        "id": "2ac72141",
        "outputId": "6cad1854-c46d-442f-c62c-24d0ef59c825",
        "colab": {
          "base_uri": "https://localhost:8080/"
        }
      },
      "outputs": [
        {
          "output_type": "stream",
          "name": "stdout",
          "text": [
            "(3256, 4)\n",
            "   Milliseconds  PackVoltx100  Ampsx100  RPM\n",
            "0             0          1250        37    0\n",
            "1           100          1250        37    0\n",
            "2           200          1250        37    0\n",
            "3           300          1250        37    0\n",
            "4           400          1250        37    0\n",
            "5           500          1248        37    0\n",
            "6           600          1250        37    0\n",
            "7           700          1248        37    0\n",
            "8           800          1250        37    0\n",
            "9           900          1250        37    0\n"
          ]
        }
      ],
      "source": [
        "import matplotlib.pyplot as plt\n",
        "from pandas import read_csv\n",
        "import pandas as pd\n",
        "from sklearn import preprocessing\n",
        "data = pd.read_csv('/content/drive/MyDrive/Machine Learning Test/daxuli3.csv')\n",
        "print(data.shape)\n",
        "print(data.head(10))"
      ]
    },
    {
      "cell_type": "code",
      "source": [
        "!cp /content/drive/MyDrive/Machine\\ Learning\\ Test/NotebookML/lssvr.py /content\n",
        "from lssvr import LSSVR"
      ],
      "metadata": {
        "id": "XdoGcG4LCLUl"
      },
      "id": "XdoGcG4LCLUl",
      "execution_count": 3,
      "outputs": []
    },
    {
      "cell_type": "code",
      "execution_count": 4,
      "id": "fbf30f72",
      "metadata": {
        "id": "fbf30f72",
        "outputId": "3710aac9-7ea2-43b5-a592-8106a30510b1",
        "colab": {
          "base_uri": "https://localhost:8080/",
          "height": 300
        }
      },
      "outputs": [
        {
          "output_type": "execute_result",
          "data": {
            "text/html": [
              "\n",
              "  <div id=\"df-2d7f7aed-e323-478b-8125-985d788beddc\">\n",
              "    <div class=\"colab-df-container\">\n",
              "      <div>\n",
              "<style scoped>\n",
              "    .dataframe tbody tr th:only-of-type {\n",
              "        vertical-align: middle;\n",
              "    }\n",
              "\n",
              "    .dataframe tbody tr th {\n",
              "        vertical-align: top;\n",
              "    }\n",
              "\n",
              "    .dataframe thead th {\n",
              "        text-align: right;\n",
              "    }\n",
              "</style>\n",
              "<table border=\"1\" class=\"dataframe\">\n",
              "  <thead>\n",
              "    <tr style=\"text-align: right;\">\n",
              "      <th></th>\n",
              "      <th>Milliseconds</th>\n",
              "      <th>PackVoltx100</th>\n",
              "      <th>Ampsx100</th>\n",
              "      <th>RPM</th>\n",
              "    </tr>\n",
              "  </thead>\n",
              "  <tbody>\n",
              "    <tr>\n",
              "      <th>count</th>\n",
              "      <td>3256.000000</td>\n",
              "      <td>3256.000000</td>\n",
              "      <td>3256.000000</td>\n",
              "      <td>3256.000000</td>\n",
              "    </tr>\n",
              "    <tr>\n",
              "      <th>mean</th>\n",
              "      <td>162750.000000</td>\n",
              "      <td>1188.672604</td>\n",
              "      <td>776.113636</td>\n",
              "      <td>6403.512285</td>\n",
              "    </tr>\n",
              "    <tr>\n",
              "      <th>std</th>\n",
              "      <td>94007.056473</td>\n",
              "      <td>45.804262</td>\n",
              "      <td>579.316040</td>\n",
              "      <td>2557.755041</td>\n",
              "    </tr>\n",
              "    <tr>\n",
              "      <th>min</th>\n",
              "      <td>0.000000</td>\n",
              "      <td>1096.000000</td>\n",
              "      <td>0.000000</td>\n",
              "      <td>0.000000</td>\n",
              "    </tr>\n",
              "    <tr>\n",
              "      <th>25%</th>\n",
              "      <td>81375.000000</td>\n",
              "      <td>1150.000000</td>\n",
              "      <td>316.000000</td>\n",
              "      <td>5045.000000</td>\n",
              "    </tr>\n",
              "    <tr>\n",
              "      <th>50%</th>\n",
              "      <td>162750.000000</td>\n",
              "      <td>1196.000000</td>\n",
              "      <td>660.000000</td>\n",
              "      <td>6863.000000</td>\n",
              "    </tr>\n",
              "    <tr>\n",
              "      <th>75%</th>\n",
              "      <td>244125.000000</td>\n",
              "      <td>1229.000000</td>\n",
              "      <td>1339.000000</td>\n",
              "      <td>8695.000000</td>\n",
              "    </tr>\n",
              "    <tr>\n",
              "      <th>max</th>\n",
              "      <td>325500.000000</td>\n",
              "      <td>1250.000000</td>\n",
              "      <td>1935.000000</td>\n",
              "      <td>10020.000000</td>\n",
              "    </tr>\n",
              "  </tbody>\n",
              "</table>\n",
              "</div>\n",
              "      <button class=\"colab-df-convert\" onclick=\"convertToInteractive('df-2d7f7aed-e323-478b-8125-985d788beddc')\"\n",
              "              title=\"Convert this dataframe to an interactive table.\"\n",
              "              style=\"display:none;\">\n",
              "        \n",
              "  <svg xmlns=\"http://www.w3.org/2000/svg\" height=\"24px\"viewBox=\"0 0 24 24\"\n",
              "       width=\"24px\">\n",
              "    <path d=\"M0 0h24v24H0V0z\" fill=\"none\"/>\n",
              "    <path d=\"M18.56 5.44l.94 2.06.94-2.06 2.06-.94-2.06-.94-.94-2.06-.94 2.06-2.06.94zm-11 1L8.5 8.5l.94-2.06 2.06-.94-2.06-.94L8.5 2.5l-.94 2.06-2.06.94zm10 10l.94 2.06.94-2.06 2.06-.94-2.06-.94-.94-2.06-.94 2.06-2.06.94z\"/><path d=\"M17.41 7.96l-1.37-1.37c-.4-.4-.92-.59-1.43-.59-.52 0-1.04.2-1.43.59L10.3 9.45l-7.72 7.72c-.78.78-.78 2.05 0 2.83L4 21.41c.39.39.9.59 1.41.59.51 0 1.02-.2 1.41-.59l7.78-7.78 2.81-2.81c.8-.78.8-2.07 0-2.86zM5.41 20L4 18.59l7.72-7.72 1.47 1.35L5.41 20z\"/>\n",
              "  </svg>\n",
              "      </button>\n",
              "      \n",
              "  <style>\n",
              "    .colab-df-container {\n",
              "      display:flex;\n",
              "      flex-wrap:wrap;\n",
              "      gap: 12px;\n",
              "    }\n",
              "\n",
              "    .colab-df-convert {\n",
              "      background-color: #E8F0FE;\n",
              "      border: none;\n",
              "      border-radius: 50%;\n",
              "      cursor: pointer;\n",
              "      display: none;\n",
              "      fill: #1967D2;\n",
              "      height: 32px;\n",
              "      padding: 0 0 0 0;\n",
              "      width: 32px;\n",
              "    }\n",
              "\n",
              "    .colab-df-convert:hover {\n",
              "      background-color: #E2EBFA;\n",
              "      box-shadow: 0px 1px 2px rgba(60, 64, 67, 0.3), 0px 1px 3px 1px rgba(60, 64, 67, 0.15);\n",
              "      fill: #174EA6;\n",
              "    }\n",
              "\n",
              "    [theme=dark] .colab-df-convert {\n",
              "      background-color: #3B4455;\n",
              "      fill: #D2E3FC;\n",
              "    }\n",
              "\n",
              "    [theme=dark] .colab-df-convert:hover {\n",
              "      background-color: #434B5C;\n",
              "      box-shadow: 0px 1px 3px 1px rgba(0, 0, 0, 0.15);\n",
              "      filter: drop-shadow(0px 1px 2px rgba(0, 0, 0, 0.3));\n",
              "      fill: #FFFFFF;\n",
              "    }\n",
              "  </style>\n",
              "\n",
              "      <script>\n",
              "        const buttonEl =\n",
              "          document.querySelector('#df-2d7f7aed-e323-478b-8125-985d788beddc button.colab-df-convert');\n",
              "        buttonEl.style.display =\n",
              "          google.colab.kernel.accessAllowed ? 'block' : 'none';\n",
              "\n",
              "        async function convertToInteractive(key) {\n",
              "          const element = document.querySelector('#df-2d7f7aed-e323-478b-8125-985d788beddc');\n",
              "          const dataTable =\n",
              "            await google.colab.kernel.invokeFunction('convertToInteractive',\n",
              "                                                     [key], {});\n",
              "          if (!dataTable) return;\n",
              "\n",
              "          const docLinkHtml = 'Like what you see? Visit the ' +\n",
              "            '<a target=\"_blank\" href=https://colab.research.google.com/notebooks/data_table.ipynb>data table notebook</a>'\n",
              "            + ' to learn more about interactive tables.';\n",
              "          element.innerHTML = '';\n",
              "          dataTable['output_type'] = 'display_data';\n",
              "          await google.colab.output.renderOutput(dataTable, element);\n",
              "          const docLink = document.createElement('div');\n",
              "          docLink.innerHTML = docLinkHtml;\n",
              "          element.appendChild(docLink);\n",
              "        }\n",
              "      </script>\n",
              "    </div>\n",
              "  </div>\n",
              "  "
            ],
            "text/plain": [
              "        Milliseconds  PackVoltx100     Ampsx100           RPM\n",
              "count    3256.000000   3256.000000  3256.000000   3256.000000\n",
              "mean   162750.000000   1188.672604   776.113636   6403.512285\n",
              "std     94007.056473     45.804262   579.316040   2557.755041\n",
              "min         0.000000   1096.000000     0.000000      0.000000\n",
              "25%     81375.000000   1150.000000   316.000000   5045.000000\n",
              "50%    162750.000000   1196.000000   660.000000   6863.000000\n",
              "75%    244125.000000   1229.000000  1339.000000   8695.000000\n",
              "max    325500.000000   1250.000000  1935.000000  10020.000000"
            ]
          },
          "metadata": {},
          "execution_count": 4
        }
      ],
      "source": [
        "data.describe()"
      ]
    },
    {
      "cell_type": "code",
      "execution_count": 5,
      "id": "05009c60",
      "metadata": {
        "id": "05009c60",
        "outputId": "ac735f7e-83e6-478a-c0b6-b70162b27434",
        "colab": {
          "base_uri": "https://localhost:8080/"
        }
      },
      "outputs": [
        {
          "output_type": "execute_result",
          "data": {
            "text/plain": [
              "Milliseconds    0\n",
              "PackVoltx100    0\n",
              "Ampsx100        0\n",
              "RPM             0\n",
              "dtype: int64"
            ]
          },
          "metadata": {},
          "execution_count": 5
        }
      ],
      "source": [
        "data.isnull().sum()"
      ]
    },
    {
      "cell_type": "code",
      "execution_count": 6,
      "id": "51cac673",
      "metadata": {
        "id": "51cac673"
      },
      "outputs": [],
      "source": [
        "#X=data['Milliseconds']\n",
        "#y=data['PackVoltx100']\n",
        "#y,X"
      ]
    },
    {
      "cell_type": "code",
      "execution_count": 7,
      "id": "a775137b",
      "metadata": {
        "id": "a775137b",
        "outputId": "5088f2b1-85dd-48a8-cf86-7b9c990351d4",
        "colab": {
          "base_uri": "https://localhost:8080/",
          "height": 614
        }
      },
      "outputs": [
        {
          "output_type": "execute_result",
          "data": {
            "text/plain": [
              "<matplotlib.axes._subplots.AxesSubplot at 0x7f2e1bda7310>"
            ]
          },
          "metadata": {},
          "execution_count": 7
        },
        {
          "output_type": "display_data",
          "data": {
            "image/png": "[encoded data removed]",
            "text/plain": [
              "<Figure size 864x720 with 2 Axes>"
            ]
          },
          "metadata": {
            "needs_background": "light"
          }
        }
      ],
      "source": [
        "import seaborn as sns\n",
        "plt.figure(figsize=(12,10)) # Correlation diagram of features  \n",
        "corr = data.corr()\n",
        "sns.heatmap(corr, xticklabels=corr.columns.values, yticklabels=corr.columns.values, center=0,  annot= True, linewidths=0.2)"
      ]
    },
    {
      "cell_type": "code",
      "execution_count": 8,
      "id": "c94c860d",
      "metadata": {
        "id": "c94c860d",
        "outputId": "565b53ee-eca1-4217-ca64-bf9dbf7ed5d2",
        "colab": {
          "base_uri": "https://localhost:8080/",
          "height": 822
        }
      },
      "outputs": [
        {
          "output_type": "execute_result",
          "data": {
            "text/plain": [
              "<matplotlib.axes._subplots.AxesSubplot at 0x7f2e1afef590>"
            ]
          },
          "metadata": {},
          "execution_count": 8
        },
        {
          "output_type": "display_data",
          "data": {
            "image/png": "[encoded data removed]",
            "text/plain": [
              "<Figure size 432x288 with 1 Axes>"
            ]
          },
          "metadata": {
            "needs_background": "light"
          }
        },
        {
          "output_type": "display_data",
          "data": {
            "image/png": "[encoded data removed]",
            "text/plain": [
              "<Figure size 432x288 with 1 Axes>"
            ]
          },
          "metadata": {
            "needs_background": "light"
          }
        },
        {
          "output_type": "display_data",
          "data": {
            "image/png": "[encoded data removed]",
            "text/plain": [
              "<Figure size 432x288 with 1 Axes>"
            ]
          },
          "metadata": {
            "needs_background": "light"
          }
        }
      ],
      "source": [
        "data.plot('Milliseconds','PackVoltx100')\n",
        "data.plot('Milliseconds','RPM')\n",
        "data.plot('Milliseconds','Ampsx100')"
      ]
    },
    {
      "cell_type": "code",
      "source": [
        "# Function to remove outlier\n",
        "def remove_outlier(df_in, col_name):\n",
        "    q1 = df_in[col_name].quantile(0.25) # Q1\n",
        "    q3 = df_in[col_name].quantile(0.75) # Q3\n",
        "    iqr = q3-q1 # Interquartile range\n",
        "    fence_low  = q1-1.5*iqr\n",
        "    fence_high = q3+1.5*iqr\n",
        "    df_out = df_in.loc[(df_in[col_name] > fence_low) & (df_in[col_name] < fence_high)]\n",
        "    return df_out\n",
        "\n",
        "New_data = remove_outlier(data, 'PackVoltx100') # remove oulier\n",
        "#New_data=data\n",
        "target = New_data.PackVoltx100 # target of train set   "
      ],
      "metadata": {
        "id": "AizXHW-t2l33"
      },
      "id": "AizXHW-t2l33",
      "execution_count": 9,
      "outputs": []
    },
    {
      "cell_type": "code",
      "source": [
        "target"
      ],
      "metadata": {
        "colab": {
          "base_uri": "https://localhost:8080/"
        },
        "id": "cW9zTIllOsnM",
        "outputId": "6a9fe1aa-be6b-4800-e080-0d0fa755a3aa"
      },
      "id": "cW9zTIllOsnM",
      "execution_count": 10,
      "outputs": [
        {
          "output_type": "execute_result",
          "data": {
            "text/plain": [
              "0       1250\n",
              "1       1250\n",
              "2       1250\n",
              "3       1250\n",
              "4       1250\n",
              "        ... \n",
              "3251    1174\n",
              "3252    1174\n",
              "3253    1174\n",
              "3254    1174\n",
              "3255    1174\n",
              "Name: PackVoltx100, Length: 3256, dtype: int64"
            ]
          },
          "metadata": {},
          "execution_count": 10
        }
      ]
    },
    {
      "cell_type": "code",
      "source": [
        "target=target.to_frame(name='PackVoltx100')"
      ],
      "metadata": {
        "id": "1pnspq1FboN6"
      },
      "id": "1pnspq1FboN6",
      "execution_count": 11,
      "outputs": []
    },
    {
      "cell_type": "code",
      "source": [
        "import numpy as np \n",
        "New_data = New_data.drop(['Ampsx100','RPM','PackVoltx100'],axis=1)\n",
        "\n",
        "# function to normalize data\n",
        "def normalize_data(df):\n",
        "    for column in df.columns:\n",
        "      df[column] = df[column]/1000\n",
        "    return df\n",
        "def normalize_data2(df):\n",
        "    for column in df.columns:\n",
        "      df[column] = df[column]/100\n",
        "    return df\n",
        "\n",
        "New_data = normalize_data(New_data)\n",
        "#source = New_data\n",
        "#.drop(['PackVoltx100','Ampsx100','RPM'],axis=1)\n",
        "target=normalize_data2(target)"
      ],
      "metadata": {
        "id": "JISdeYF62rrP"
      },
      "id": "JISdeYF62rrP",
      "execution_count": 12,
      "outputs": []
    },
    {
      "cell_type": "code",
      "source": [
        "X=New_data.loc[:3168,:]\n",
        "y=target.loc[:3168,:]"
      ],
      "metadata": {
        "id": "4xJmglq--j5y"
      },
      "id": "4xJmglq--j5y",
      "execution_count": 13,
      "outputs": []
    },
    {
      "cell_type": "code",
      "source": [
        "plt.plot(target)"
      ],
      "metadata": {
        "colab": {
          "base_uri": "https://localhost:8080/",
          "height": 283
        },
        "id": "Nmz0SXWS2DmH",
        "outputId": "4d6fd6bf-a8b9-4d93-85c5-5db7b32e683f"
      },
      "id": "Nmz0SXWS2DmH",
      "execution_count": 14,
      "outputs": [
        {
          "output_type": "execute_result",
          "data": {
            "text/plain": [
              "[<matplotlib.lines.Line2D at 0x7f2e1a630c90>]"
            ]
          },
          "metadata": {},
          "execution_count": 14
        },
        {
          "output_type": "display_data",
          "data": {
            "image/png": "[encoded data removed]",
            "text/plain": [
              "<Figure size 432x288 with 1 Axes>"
            ]
          },
          "metadata": {
            "needs_background": "light"
          }
        }
      ]
    },
    {
      "cell_type": "code",
      "execution_count": 15,
      "id": "03d62504",
      "metadata": {
        "id": "03d62504"
      },
      "outputs": [],
      "source": [
        "from sklearn.model_selection import train_test_split\n",
        "from sklearn.linear_model import Lasso\n",
        "from sklearn.ensemble import GradientBoostingRegressor\n",
        "from sklearn.metrics import mean_squared_error\n",
        "from sklearn.metrics import mean_absolute_percentage_error\n",
        "from sklearn.neural_network import MLPRegressor"
      ]
    },
    {
      "cell_type": "code",
      "execution_count": 16,
      "id": "b2233006",
      "metadata": {
        "scrolled": true,
        "id": "b2233006"
      },
      "outputs": [],
      "source": [
        "#X, y = source, target\n",
        "X_train, X_test, y_train, y_test = train_test_split(X, y, test_size=0.2) # Divide the data into 2 train set and test set\n",
        "model_lasso=Lasso(alpha=0.1)\n",
        "model_lasso.fit(X_train, y_train)\n",
        "y_predic=model_lasso.predict(X_test)"
      ]
    },
    {
      "cell_type": "code",
      "execution_count": 17,
      "id": "54ebaeae",
      "metadata": {
        "id": "54ebaeae",
        "outputId": "dab83935-e575-4dd6-b221-0c2a613b0ad0",
        "colab": {
          "base_uri": "https://localhost:8080/"
        }
      },
      "outputs": [
        {
          "output_type": "stream",
          "name": "stdout",
          "text": [
            "Acc 0.006920935250324252\n",
            "MSE 0.008865327857346863\n"
          ]
        }
      ],
      "source": [
        "print('Acc',mean_absolute_percentage_error(y_test,y_predic))\n",
        "print('MSE', mean_squared_error(y_test, y_predic))"
      ]
    },
    {
      "cell_type": "code",
      "execution_count": 18,
      "id": "84ffd5b1",
      "metadata": {
        "scrolled": true,
        "id": "84ffd5b1",
        "outputId": "bfbe56be-c46c-4dd5-d043-b58c8a221ee1",
        "colab": {
          "base_uri": "https://localhost:8080/",
          "height": 296
        }
      },
      "outputs": [
        {
          "output_type": "display_data",
          "data": {
            "image/png": "[encoded data removed]",
            "text/plain": [
              "<Figure size 432x288 with 1 Axes>"
            ]
          },
          "metadata": {
            "needs_background": "light"
          }
        }
      ],
      "source": [
        "#plt.scatter(y_test,y_predic) # plot to compare y_predicted and y_test\n",
        "plt.plot(X_test,y_test,'.r')\n",
        "plt.plot(X_test,y_predic,'.b')\n",
        "plt.xlabel('X_test') # assign label for x axis\n",
        "plt.ylabel('Value') # assign label for y axis\n",
        "plt.title('LASSO') # assign title for diagram\n",
        "plt.show()"
      ]
    },
    {
      "cell_type": "code",
      "source": [
        "X_train_gbt, X_test_gbt, y_train_gbt, y_test_gbt = train_test_split(X, y, test_size=0.2)\n",
        "model_gbt=GradientBoostingRegressor()\n",
        "model_gbt.fit(X_train_gbt,y_train_gbt.values.ravel())\n",
        "y_predic_gbt=model_gbt.predict(X_test_gbt)"
      ],
      "metadata": {
        "id": "nQjg_6Nq_Pm5"
      },
      "id": "nQjg_6Nq_Pm5",
      "execution_count": 19,
      "outputs": []
    },
    {
      "cell_type": "code",
      "source": [
        " # plot to compare y_predicted and y_test\n",
        "plt.plot(X_test_gbt,y_test_gbt,'.r')\n",
        "plt.plot(X_test_gbt,y_predic_gbt,'.b')\n",
        "plt.xlabel('X_test') # assign label for x axis\n",
        "plt.ylabel('Value') # assign label for y axis\n",
        "plt.title('GBT') # assign title for diagram\n",
        "plt.show()"
      ],
      "metadata": {
        "colab": {
          "base_uri": "https://localhost:8080/",
          "height": 296
        },
        "id": "oTZkDjsL_oVZ",
        "outputId": "b0a145f9-d893-4bb3-9c08-35d227656ad8"
      },
      "id": "oTZkDjsL_oVZ",
      "execution_count": 20,
      "outputs": [
        {
          "output_type": "display_data",
          "data": {
            "image/png": "[encoded data removed]",
            "text/plain": [
              "<Figure size 432x288 with 1 Axes>"
            ]
          },
          "metadata": {
            "needs_background": "light"
          }
        }
      ]
    },
    {
      "cell_type": "code",
      "source": [
        "print('Error',mean_absolute_percentage_error(y_test_gbt,y_predic_gbt))\n",
        "print('MSE', mean_squared_error(y_test_gbt, y_predic_gbt))"
      ],
      "metadata": {
        "colab": {
          "base_uri": "https://localhost:8080/"
        },
        "id": "pssze18u_2zq",
        "outputId": "732facaf-36f3-47ee-921f-2328f7b2729c"
      },
      "id": "pssze18u_2zq",
      "execution_count": 21,
      "outputs": [
        {
          "output_type": "stream",
          "name": "stdout",
          "text": [
            "Error 0.0003046991184430824\n",
            "MSE 5.591436865455887e-05\n"
          ]
        }
      ]
    },
    {
      "cell_type": "code",
      "source": [
        "X_train_lssvr,X_test_lssvr,y_train_lssvr,y_test_lssvr= train_test_split(X,y, test_size=0.2)\n",
        "model_lssvr=LSSVR(kernel='rbf', gamma=2**-4)\n",
        "model_lssvr.fit(X_train_lssvr,y_train_lssvr)\n",
        "y_predic_lssvr = model_lssvr.predict(X_test_lssvr)"
      ],
      "metadata": {
        "id": "RBO-A3EYAFIY"
      },
      "id": "RBO-A3EYAFIY",
      "execution_count": 22,
      "outputs": []
    },
    {
      "cell_type": "code",
      "source": [
        "plt.plot(X_test_lssvr,y_test_lssvr,'.r')\n",
        "plt.plot(X_test_lssvr,y_predic_lssvr,'.b')\n",
        "plt.xlabel('X_test') # assign label for x axis\n",
        "plt.ylabel('Value') # assign label for y axis\n",
        "plt.title('LSSVR') # assign title for diagram\n",
        "plt.show()"
      ],
      "metadata": {
        "colab": {
          "base_uri": "https://localhost:8080/",
          "height": 296
        },
        "id": "laD8SvDNC0j0",
        "outputId": "0fd71a74-077a-4383-9c1c-a7357c74d331"
      },
      "id": "laD8SvDNC0j0",
      "execution_count": 23,
      "outputs": [
        {
          "output_type": "display_data",
          "data": {
            "image/png": "[encoded data removed]",
            "text/plain": [
              "<Figure size 432x288 with 1 Axes>"
            ]
          },
          "metadata": {
            "needs_background": "light"
          }
        }
      ]
    },
    {
      "cell_type": "code",
      "source": [
        "print('Error',mean_absolute_percentage_error(y_test_lssvr,y_predic_lssvr))\n",
        "print('MSE', mean_squared_error(y_test_lssvr, y_predic_lssvr))"
      ],
      "metadata": {
        "colab": {
          "base_uri": "https://localhost:8080/"
        },
        "id": "lLK3EObZDAWS",
        "outputId": "c2b3495c-e97b-4596-f8f4-d3340dad6128"
      },
      "id": "lLK3EObZDAWS",
      "execution_count": 24,
      "outputs": [
        {
          "output_type": "stream",
          "name": "stdout",
          "text": [
            "Error 0.0006024497862051714\n",
            "MSE 9.672381863654907e-05\n"
          ]
        }
      ]
    },
    {
      "cell_type": "code",
      "source": [
        "X_train_mlp,X_test_mlp,y_train_mlp,y_test_mlp=train_test_split(X,y, test_size=0.2)\n",
        "model_mlp=MLPRegressor(max_iter=500)\n",
        "model_mlp.fit(X_train_mlp,y_train_mlp.values.ravel())\n",
        "y_predic_mlp=model_mlp.predict(X_test_mlp)"
      ],
      "metadata": {
        "id": "Zc1NAW7jEAHs"
      },
      "id": "Zc1NAW7jEAHs",
      "execution_count": 25,
      "outputs": []
    },
    {
      "cell_type": "code",
      "source": [
        "plt.plot(X_test_mlp,y_test_mlp,'.r')\n",
        "plt.plot(X_test_mlp,y_predic_mlp,'.b')\n",
        "plt.xlabel('X_test') # assign label for x axis\n",
        "plt.ylabel('Value') # assign label for y axis\n",
        "plt.title('MLP') # assign title for diagram\n",
        "plt.show()"
      ],
      "metadata": {
        "colab": {
          "base_uri": "https://localhost:8080/",
          "height": 296
        },
        "id": "66MqhtZfFP7v",
        "outputId": "c17afa0a-1193-460e-c0a4-a177cc188f2c"
      },
      "id": "66MqhtZfFP7v",
      "execution_count": 26,
      "outputs": [
        {
          "output_type": "display_data",
          "data": {
            "image/png": "[encoded data removed]",
            "text/plain": [
              "<Figure size 432x288 with 1 Axes>"
            ]
          },
          "metadata": {
            "needs_background": "light"
          }
        }
      ]
    },
    {
      "cell_type": "code",
      "source": [
        "print('Error',mean_absolute_percentage_error(y_test_mlp,y_predic_mlp))\n",
        "print('MSE', mean_squared_error(y_test_mlp, y_predic_mlp))"
      ],
      "metadata": {
        "colab": {
          "base_uri": "https://localhost:8080/"
        },
        "id": "9QFxYuXQF1Ny",
        "outputId": "70f018f0-88a9-40ea-a63b-044b1d60fea5"
      },
      "id": "9QFxYuXQF1Ny",
      "execution_count": 27,
      "outputs": [
        {
          "output_type": "stream",
          "name": "stdout",
          "text": [
            "Error 0.007293391484140219\n",
            "MSE 0.009903607245423475\n"
          ]
        }
      ]
    }
  ],
  "metadata": {
    "kernelspec": {
      "display_name": "Python 3",
      "language": "python",
      "name": "python3"
    },
    "language_info": {
      "codemirror_mode": {
        "name": "ipython",
        "version": 3
      },
      "file_extension": ".py",
      "mimetype": "text/x-python",
      "name": "python",
      "nbconvert_exporter": "python",
      "pygments_lexer": "ipython3",
      "version": "3.8.8"
    },
    "colab": {
      "name": "TongHop.ipynb",
      "provenance": []
    }
  },
  "nbformat": 4,
  "nbformat_minor": 5
}