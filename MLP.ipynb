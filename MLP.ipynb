{
 "cells": [
  {
   "cell_type": "code",
   "execution_count": 2,
   "id": "dfeedafe",
   "metadata": {},
   "outputs": [],
   "source": [
    "import numpy as np\n",
    "import pandas as pd\n",
    "from sklearn.model_selection import train_test_split\n",
    "from sklearn.neural_network import MLPRegressor"
   ]
  },
  {
   "cell_type": "code",
   "execution_count": 4,
   "id": "1c33c135",
   "metadata": {},
   "outputs": [
    {
     "data": {
      "text/html": [
       "<div>\n",
       "<style scoped>\n",
       "    .dataframe tbody tr th:only-of-type {\n",
       "        vertical-align: middle;\n",
       "    }\n",
       "\n",
       "    .dataframe tbody tr th {\n",
       "        vertical-align: top;\n",
       "    }\n",
       "\n",
       "    .dataframe thead th {\n",
       "        text-align: right;\n",
       "    }\n",
       "</style>\n",
       "<table border=\"1\" class=\"dataframe\">\n",
       "  <thead>\n",
       "    <tr style=\"text-align: right;\">\n",
       "      <th></th>\n",
       "      <th>Milliseconds</th>\n",
       "      <th>PackVoltx100</th>\n",
       "      <th>Ampsx100</th>\n",
       "      <th>RPM</th>\n",
       "    </tr>\n",
       "  </thead>\n",
       "  <tbody>\n",
       "    <tr>\n",
       "      <th>0</th>\n",
       "      <td>0</td>\n",
       "      <td>1250</td>\n",
       "      <td>37</td>\n",
       "      <td>0</td>\n",
       "    </tr>\n",
       "    <tr>\n",
       "      <th>1</th>\n",
       "      <td>100</td>\n",
       "      <td>1250</td>\n",
       "      <td>37</td>\n",
       "      <td>0</td>\n",
       "    </tr>\n",
       "    <tr>\n",
       "      <th>2</th>\n",
       "      <td>200</td>\n",
       "      <td>1250</td>\n",
       "      <td>37</td>\n",
       "      <td>0</td>\n",
       "    </tr>\n",
       "    <tr>\n",
       "      <th>3</th>\n",
       "      <td>300</td>\n",
       "      <td>1250</td>\n",
       "      <td>37</td>\n",
       "      <td>0</td>\n",
       "    </tr>\n",
       "    <tr>\n",
       "      <th>4</th>\n",
       "      <td>400</td>\n",
       "      <td>1250</td>\n",
       "      <td>37</td>\n",
       "      <td>0</td>\n",
       "    </tr>\n",
       "    <tr>\n",
       "      <th>...</th>\n",
       "      <td>...</td>\n",
       "      <td>...</td>\n",
       "      <td>...</td>\n",
       "      <td>...</td>\n",
       "    </tr>\n",
       "    <tr>\n",
       "      <th>3251</th>\n",
       "      <td>325100</td>\n",
       "      <td>1174</td>\n",
       "      <td>0</td>\n",
       "      <td>0</td>\n",
       "    </tr>\n",
       "    <tr>\n",
       "      <th>3252</th>\n",
       "      <td>325200</td>\n",
       "      <td>1174</td>\n",
       "      <td>18</td>\n",
       "      <td>0</td>\n",
       "    </tr>\n",
       "    <tr>\n",
       "      <th>3253</th>\n",
       "      <td>325300</td>\n",
       "      <td>1174</td>\n",
       "      <td>18</td>\n",
       "      <td>0</td>\n",
       "    </tr>\n",
       "    <tr>\n",
       "      <th>3254</th>\n",
       "      <td>325400</td>\n",
       "      <td>1174</td>\n",
       "      <td>18</td>\n",
       "      <td>0</td>\n",
       "    </tr>\n",
       "    <tr>\n",
       "      <th>3255</th>\n",
       "      <td>325500</td>\n",
       "      <td>1174</td>\n",
       "      <td>18</td>\n",
       "      <td>0</td>\n",
       "    </tr>\n",
       "  </tbody>\n",
       "</table>\n",
       "<p>3256 rows × 4 columns</p>\n",
       "</div>"
      ],
      "text/plain": [
       "      Milliseconds  PackVoltx100  Ampsx100  RPM\n",
       "0                0          1250        37    0\n",
       "1              100          1250        37    0\n",
       "2              200          1250        37    0\n",
       "3              300          1250        37    0\n",
       "4              400          1250        37    0\n",
       "...            ...           ...       ...  ...\n",
       "3251        325100          1174         0    0\n",
       "3252        325200          1174        18    0\n",
       "3253        325300          1174        18    0\n",
       "3254        325400          1174        18    0\n",
       "3255        325500          1174        18    0\n",
       "\n",
       "[3256 rows x 4 columns]"
      ]
     },
     "execution_count": 4,
     "metadata": {},
     "output_type": "execute_result"
    }
   ],
   "source": [
    "data= pd.read_csv('F:/NotebookML/LASSO/daxuli3.csv')\n",
    "data"
   ]
  },
  {
   "cell_type": "code",
   "execution_count": 34,
   "id": "ec08ab6f",
   "metadata": {},
   "outputs": [
    {
     "data": {
      "text/plain": [
       "(      Milliseconds  Ampsx100  RPM\n",
       " 0                0        37    0\n",
       " 1              100        37    0\n",
       " 2              200        37    0\n",
       " 3              300        37    0\n",
       " 4              400        37    0\n",
       " ...            ...       ...  ...\n",
       " 3251        325100         0    0\n",
       " 3252        325200        18    0\n",
       " 3253        325300        18    0\n",
       " 3254        325400        18    0\n",
       " 3255        325500        18    0\n",
       " \n",
       " [3256 rows x 3 columns],\n",
       " 0       1250\n",
       " 1       1250\n",
       " 2       1250\n",
       " 3       1250\n",
       " 4       1250\n",
       "         ... \n",
       " 3251    1174\n",
       " 3252    1174\n",
       " 3253    1174\n",
       " 3254    1174\n",
       " 3255    1174\n",
       " Name: PackVoltx100, Length: 3256, dtype: int64)"
      ]
     },
     "execution_count": 34,
     "metadata": {},
     "output_type": "execute_result"
    }
   ],
   "source": [
    "X=data.drop(['PackVoltx100'],axis=1)\n",
    "y=data['PackVoltx100']\n",
    "X,y"
   ]
  },
  {
   "cell_type": "code",
   "execution_count": 61,
   "id": "bf5639dd",
   "metadata": {},
   "outputs": [],
   "source": [
    "X_train, X_test, y_train, y_test = train_test_split(X, y, test_size=0.2)\n",
    "model=MLPRegressor(max_iter=500)\n",
    "model.fit(X_train,y_train)\n",
    "y_predic=model.predict(X_test)"
   ]
  },
  {
   "cell_type": "code",
   "execution_count": 62,
   "id": "8f22dcee",
   "metadata": {},
   "outputs": [
    {
     "data": {
      "text/plain": [
       "(652,)"
      ]
     },
     "execution_count": 62,
     "metadata": {},
     "output_type": "execute_result"
    }
   ],
   "source": [
    "y_predic.shape"
   ]
  },
  {
   "cell_type": "code",
   "execution_count": 63,
   "id": "d7120895",
   "metadata": {},
   "outputs": [
    {
     "data": {
      "image/png": "[encoded data removed]",
      "text/plain": [
       "<Figure size 432x288 with 1 Axes>"
      ]
     },
     "metadata": {
      "needs_background": "light"
     },
     "output_type": "display_data"
    }
   ],
   "source": [
    "import matplotlib.pyplot as plt\n",
    "xlab=X_test['Milliseconds']\n",
    "plt.plot(xlab, y_test, '.r')\n",
    "plt.plot(xlab, y_predic, '.b')\n",
    "plt.show()"
   ]
  },
  {
   "cell_type": "code",
   "execution_count": 64,
   "id": "a3b251e3",
   "metadata": {},
   "outputs": [
    {
     "name": "stdout",
     "output_type": "stream",
     "text": [
      "Acc 0.07927842179695437\n",
      "MSE 43020.231043000895\n"
     ]
    }
   ],
   "source": [
    "from sklearn.metrics import mean_squared_error\n",
    "from sklearn.metrics import mean_absolute_percentage_error\n",
    "print('Acc',mean_absolute_percentage_error(y_test,y_predic))\n",
    "print('MSE', mean_squared_error(y_test, y_predic))"
   ]
  },
  {
   "cell_type": "code",
   "execution_count": null,
   "id": "30cfdbe9",
   "metadata": {},
   "outputs": [],
   "source": []
  }
 ],
 "metadata": {
  "kernelspec": {
   "display_name": "Python 3",
   "language": "python",
   "name": "python3"
  },
  "language_info": {
   "codemirror_mode": {
    "name": "ipython",
    "version": 3
   },
   "file_extension": ".py",
   "mimetype": "text/x-python",
   "name": "python",
   "nbconvert_exporter": "python",
   "pygments_lexer": "ipython3",
   "version": "3.8.8"
  }
 },
 "nbformat": 4,
 "nbformat_minor": 5
}
